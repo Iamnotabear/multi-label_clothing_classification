{
  "nbformat": 4,
  "nbformat_minor": 0,
  "metadata": {
    "colab": {
      "name": "resnet50_multi-label_clothing_classification.ipynb",
      "version": "0.3.2",
      "provenance": [],
      "collapsed_sections": [],
      "include_colab_link": true
    },
    "kernelspec": {
      "name": "python3",
      "display_name": "Python 3"
    },
    "accelerator": "GPU"
  },
  "cells": [
    {
      "cell_type": "markdown",
      "metadata": {
        "id": "view-in-github",
        "colab_type": "text"
      },
      "source": [
        "<a href=\"https://colab.research.google.com/github/Iamnotabear/multi-label_clothing_classification/blob/master/resnet50_multi_label_clothing_classification.ipynb\" target=\"_parent\"><img src=\"https://colab.research.google.com/assets/colab-badge.svg\" alt=\"Open In Colab\"/></a>"
      ]
    },
    {
      "metadata": {
        "id": "gaaIr_L_uefE",
        "colab_type": "code",
        "outputId": "e6079039-bd7f-43eb-c174-4cb123f9af57",
        "colab": {
          "base_uri": "https://localhost:8080/",
          "height": 122
        }
      },
      "cell_type": "code",
      "source": [
        "# Load the Drive helper and mount\n",
        "from google.colab import drive\n",
        "\n",
        "# This will prompt for authorization.\n",
        "drive.mount('/content/drive')"
      ],
      "execution_count": 0,
      "outputs": [
        {
          "output_type": "stream",
          "text": [
            "Go to this URL in a browser: https://accounts.google.com/o/oauth2/auth?client_id=947318989803-6bn6qk8qdgf4n4g3pfee6491hc0brc4i.apps.googleusercontent.com&redirect_uri=urn%3Aietf%3Awg%3Aoauth%3A2.0%3Aoob&scope=email%20https%3A%2F%2Fwww.googleapis.com%2Fauth%2Fdocs.test%20https%3A%2F%2Fwww.googleapis.com%2Fauth%2Fdrive%20https%3A%2F%2Fwww.googleapis.com%2Fauth%2Fdrive.photos.readonly%20https%3A%2F%2Fwww.googleapis.com%2Fauth%2Fpeopleapi.readonly&response_type=code\n",
            "\n",
            "Enter your authorization code:\n",
            "··········\n",
            "Mounted at /content/drive\n"
          ],
          "name": "stdout"
        }
      ]
    },
    {
      "metadata": {
        "id": "beR_IlFurP1D",
        "colab_type": "code",
        "colab": {}
      },
      "cell_type": "code",
      "source": [
        "!ls \"/content/drive/My Drive\""
      ],
      "execution_count": 0,
      "outputs": []
    },
    {
      "metadata": {
        "id": "3Sg3hFTFrcWi",
        "colab_type": "code",
        "colab": {}
      },
      "cell_type": "code",
      "source": [
        "!unzip \"/content/drive/My Drive/Image_1.zip\""
      ],
      "execution_count": 0,
      "outputs": []
    },
    {
      "metadata": {
        "id": "Usu_V3IYso1K",
        "colab_type": "code",
        "colab": {}
      },
      "cell_type": "code",
      "source": [
        "!unzip Image_1/Data.zip"
      ],
      "execution_count": 0,
      "outputs": []
    },
    {
      "metadata": {
        "id": "N1jo0m7OVUZ4",
        "colab_type": "code",
        "colab": {}
      },
      "cell_type": "code",
      "source": [
        "!ls Data/validation"
      ],
      "execution_count": 0,
      "outputs": []
    },
    {
      "metadata": {
        "id": "DBBhDIzysEDV",
        "colab_type": "code",
        "colab": {}
      },
      "cell_type": "code",
      "source": [
        "import pandas as pd\n",
        "#importing pandas for reading csv\n",
        "import numpy as np\n",
        "#importing numpy for matrix operartions\n",
        "from collections import defaultdict\n",
        "#importing defaultdict for making dictionaries\n",
        "\n",
        "import tensorflow as tf\n",
        "import tensorflow.keras as keras\n",
        "from tensorflow.keras.layers import Input\n",
        "from tensorflow.keras import layers\n",
        "from tensorflow.keras.layers import Dense\n",
        "from tensorflow.keras.layers import Activation\n",
        "from tensorflow.keras.layers import Flatten\n",
        "from tensorflow.keras.layers import Conv2D\n",
        "from tensorflow.keras.layers import MaxPooling2D\n",
        "from tensorflow.keras.layers import GlobalMaxPooling2D\n",
        "from tensorflow.keras.layers import ZeroPadding2D\n",
        "from tensorflow.keras.layers import AveragePooling2D\n",
        "from tensorflow.keras.layers import GlobalAveragePooling2D\n",
        "from tensorflow.keras.layers import BatchNormalization\n",
        "\n",
        "from tensorflow.keras.models import Model\n",
        "#functional API\n",
        "\n",
        "from tensorflow.keras.preprocessing import image\n",
        "#loading images\n",
        "\n",
        "from keras.utils import layer_utils\n",
        "\n",
        "from keras.applications.imagenet_utils import preprocess_input\n",
        "#preprocessing images\n",
        "\n",
        "import glob\n",
        "#importing images"
      ],
      "execution_count": 0,
      "outputs": []
    },
    {
      "metadata": {
        "id": "Km0EhrQCsiPf",
        "colab_type": "code",
        "colab": {}
      },
      "cell_type": "code",
      "source": [
        "data = pd.read_csv('Image_1/Input/validation_labels.csv')\n",
        "#importing and reading csv labels through pandas\n",
        "data"
      ],
      "execution_count": 0,
      "outputs": []
    },
    {
      "metadata": {
        "id": "yIecF2qSssd3",
        "colab_type": "code",
        "colab": {}
      },
      "cell_type": "code",
      "source": [
        "int_max = -1\n",
        "#setting int_max -1 to find the number of classes\n",
        "dict_data = defaultdict(list)\n",
        "#making a dictionary for storing labels which will be converted to list and then numpy array for feeding\n",
        "for i in range(len(data)):\n",
        "    labels = []\n",
        "    label_id = data['labels'][i]\n",
        "    list_label = label_id.split(\",\") #spiltting the extracted label string by \",\"\n",
        "    for item in list_label:\n",
        "        list_int = item.split(\"'\") #splitting the splitted string by \"'\"\n",
        "        int_item = int(list_int[1])\n",
        "        labels.append( int_item ) #got int label from the string labels\n",
        "        if int_max < int_item:\n",
        "            int_max = int_item #checking and changing max_int value for finding number of classes\n",
        "    dict_data[i].append(labels) #appending int labels to dictionary\n",
        "dict_data"
      ],
      "execution_count": 0,
      "outputs": []
    },
    {
      "metadata": {
        "id": "gk01uqUlsuLk",
        "colab_type": "code",
        "colab": {}
      },
      "cell_type": "code",
      "source": [
        "final_labels = [] #converting multilabels into one hot vectors of size number of classes i.e. int_max\n",
        "for i in range(len(dict_data)):\n",
        "    final_label_list = [0]*(int_max) #making a zero valued list of size number of classes\n",
        "    for j in dict_data[i][0]:\n",
        "        final_label_list[j-1] = 1 #setting label index of final_labels \n",
        "    final_labels.append(final_label_list) #appening lists of one hot vector\n",
        "final_labels"
      ],
      "execution_count": 0,
      "outputs": []
    },
    {
      "metadata": {
        "id": "b6xUq996swOW",
        "colab_type": "code",
        "colab": {}
      },
      "cell_type": "code",
      "source": [
        "final_labels = np.asarray(final_labels) #converting into numpy array"
      ],
      "execution_count": 0,
      "outputs": []
    },
    {
      "metadata": {
        "id": "0a-hvFmWsyb_",
        "colab_type": "code",
        "colab": {}
      },
      "cell_type": "code",
      "source": [
        "images = [] #making images list\n",
        "for img in glob.glob(\"Data/validation/*.jpg\"): #iterating images into given folder\n",
        "    img = image.load_img(img, target_size=(224, 224)) #loading images and resizing to 224*224 as needed by resNet\n",
        "    x = image.img_to_array(img) #images to array\n",
        "    x = preprocess_input(x) #preprocessing to feed in resNet\n",
        "    images.append(x)# appnding the  images to list\n",
        "images"
      ],
      "execution_count": 0,
      "outputs": []
    },
    {
      "metadata": {
        "id": "Zica06Ihs5Uu",
        "colab_type": "code",
        "colab": {}
      },
      "cell_type": "code",
      "source": [
        "images = np.asarray(images) #converting into numpy array"
      ],
      "execution_count": 0,
      "outputs": []
    },
    {
      "metadata": {
        "id": "-HZ4BSHrvoCS",
        "colab_type": "code",
        "colab": {}
      },
      "cell_type": "code",
      "source": [
        "#making identity block it is just a direct connection without any layer in between\n",
        "\n",
        "def identity(input_tensor, kernel_size, filters, stage, block):\n",
        "    \n",
        "    \n",
        "    filters1, filters2, filters3 = filters #number of filters  needed for convolving the 3 layers\n",
        "    \n",
        "    bn_axis = 3 #batch normalisation along the axis of channels\n",
        "    \n",
        "    conv_name = 'res'+ str(stage) + block #setting convolution layer name stage+block\n",
        "    normal_name = 'normalization' + str(stage) + block #setting branch normalization layer name stage+block\n",
        "\n",
        "    x = Conv2D(filters1, (1, 1), name=conv_name + 'a1')(input_tensor)\n",
        "    #feeding in input tensor(image numpy array) and convolving it using number of filter1 and 1*1 kernel size\n",
        "    \n",
        "    x = BatchNormalization(axis=bn_axis, name=normal_name+ 'a1')(x)\n",
        "    #normalizing the batch to centre it's bias and variance\n",
        "    #done before non-linearity\n",
        "    x = Activation('relu')(x)\n",
        "\n",
        "    x = Conv2D(filters2, kernel_size,padding='same', name=conv_name + 'b1')(x)\n",
        "    #applying convolution of number filters2 and kernel size acc to block\n",
        "    \n",
        "    x = BatchNormalization(axis=bn_axis, name=normal_name + 'b1')(x)\n",
        "    x = Activation('relu')(x)\n",
        "\n",
        "    x = Conv2D(filters3, (1, 1), name=conv_name + 'c1')(x)\n",
        "    x = BatchNormalization(axis=bn_axis, name=normal_name  + 'c1')(x)\n",
        "\n",
        "    x = layers.add([x, input_tensor])\n",
        "    #skip/residual connection from direct input without any layer in between\n",
        "    x = Activation('relu')(x)\n",
        "    \n",
        "    return x"
      ],
      "execution_count": 0,
      "outputs": []
    },
    {
      "metadata": {
        "id": "msGwNq3lU12B",
        "colab_type": "code",
        "colab": {}
      },
      "cell_type": "code",
      "source": [
        "#making shortcut connection which contains linear layer\n",
        "\n",
        "def shortcut(input_tensor, kernel_size, filters, stage, block, strides=(2, 2)):\n",
        "    \n",
        "    \n",
        "    filters1, filters2, filters3 = filters\n",
        "    bn_axis = 3\n",
        "    \n",
        "    conv_name = 'res' + str(stage) + block\n",
        "    normal_name = 'normalization' + str(stage) + block\n",
        "\n",
        "    x = Conv2D(filters1, (1, 1), strides=strides,name=conv_name + 'a1')(input_tensor)\n",
        "    x = BatchNormalization(axis=bn_axis, name=normal_name+ 'a1')(x)\n",
        "    x = Activation('relu')(x)\n",
        "\n",
        "    x = Conv2D(filters2, kernel_size, padding='same',name=conv_name + 'b1' )(x)\n",
        "    x = BatchNormalization(axis=bn_axis, name=normal_name+ 'b1' )(x)\n",
        "    x = Activation('relu')(x)\n",
        "\n",
        "    x = Conv2D(filters3, (1, 1), name=conv_name + 'c1')(x)\n",
        "    x = BatchNormalization(axis=bn_axis, name=normal_name + 'c1')(x)\n",
        "\n",
        "    shortcut = Conv2D(filters3, (1, 1), strides=strides, name=conv_name + '1')(input_tensor)\n",
        "    #skip/residual connections' middle layer joined with input tensor\n",
        "    shortcut = BatchNormalization(axis=bn_axis, name=normal_name + '1')(shortcut)\n",
        "\n",
        "    x = layers.add([x, shortcut])\n",
        "    #making residual connection with shortcut in between\n",
        "    x = Activation('relu')(x)\n",
        "    return x"
      ],
      "execution_count": 0,
      "outputs": []
    },
    {
      "metadata": {
        "id": "DTqvsX5mVJGR",
        "colab_type": "code",
        "colab": {}
      },
      "cell_type": "code",
      "source": [
        "def ResNet50(include_top=True,pooling=None,classes=int_max):\n",
        "\n",
        "    input_shape = (224, 224, 3)\n",
        "    #input tensors' shape\n",
        "    img_input = Input(shape=input_shape)\n",
        "    \n",
        "    bn_axis = 3\n",
        "    #batch normalization axis\n",
        "    \n",
        "    x = ZeroPadding2D((3, 3))(img_input)\n",
        "    #padding the input tensors with zeros for considering edges of the images\n",
        "    \n",
        "    x = Conv2D(64, (7, 7), strides=(2, 2), name='conv1')(x)\n",
        "    x = BatchNormalization(axis=bn_axis, name='normal_conv1')(x)\n",
        "    x = Activation('relu')(x)\n",
        "    \n",
        "    x = MaxPooling2D((3, 3), strides=(2, 2))(x)\n",
        "    #max pooling for getting max value in the window of size 3*3\n",
        "    #with stride 2*2\n",
        "    \n",
        "    x = shortcut(x, 3, [64, 64, 256], stage=2, block='a', strides=(1, 1))\n",
        "    x = identity(x, 3, [64, 64, 256], stage=2, block='b')\n",
        "    x = identity(x, 3, [64, 64, 256], stage=2, block='c')\n",
        "    #3 blocks\n",
        "    \n",
        "    x = shortcut(x, 3, [128, 128, 512], stage=3, block='a')\n",
        "    x = identity(x, 3, [128, 128, 512], stage=3, block='b')\n",
        "    x = identity(x, 3, [128, 128, 512], stage=3, block='c')\n",
        "    x = identity(x, 3, [128, 128, 512], stage=3, block='d')\n",
        "    #4 blocks\n",
        "    \n",
        "    x = shortcut(x, 3, [256, 256, 1024], stage=4, block='a')\n",
        "    x = identity(x, 3, [256, 256, 1024], stage=4, block='b')\n",
        "    x = identity(x, 3, [256, 256, 1024], stage=4, block='c')\n",
        "    x = identity(x, 3, [256, 256, 1024], stage=4, block='d')\n",
        "    x = identity(x, 3, [256, 256, 1024], stage=4, block='e')\n",
        "    x = identity(x, 3, [256, 256, 1024], stage=4, block='f')\n",
        "    #6 blocks\n",
        "    \n",
        "    x = shortcut(x, 3, [512, 512, 2048], stage=5, block='a')\n",
        "    x = identity(x, 3, [512, 512, 2048], stage=5, block='b')\n",
        "    x = identity(x, 3, [512, 512, 2048], stage=5, block='c')\n",
        "    #3 blocks\n",
        "    \n",
        "    x = AveragePooling2D((7, 7), name='avg_pool')(x)\n",
        "    #average pooling to get a average in a window of size 7*7\n",
        "    \n",
        "    x = Flatten()(x)\n",
        "    #flattening conv feature output to make a fully connected layer\n",
        "    \n",
        "    x = Dense(classes, activation='sigmoid', name='fully_connected')(x)\n",
        "    #number of output neurons equals to the size of number of classes\n",
        "    #with activation sigmoid for multi-label classification\n",
        "    \n",
        "    inputs = img_input\n",
        "    \n",
        "    # Create model.\n",
        "    model = Model(inputs, x, name='resnet50')\n",
        "\n",
        "    # load weights\n",
        "    return model"
      ],
      "execution_count": 0,
      "outputs": []
    },
    {
      "metadata": {
        "id": "ksfH2oJBvzaz",
        "colab_type": "code",
        "colab": {}
      },
      "cell_type": "code",
      "source": [
        "model = ResNet50()\n",
        "#initiating model"
      ],
      "execution_count": 0,
      "outputs": []
    },
    {
      "metadata": {
        "id": "8RSF-EliVO4n",
        "colab_type": "code",
        "outputId": "639a38fb-c43e-4a26-c83a-9e5dae112898",
        "colab": {
          "base_uri": "https://localhost:8080/",
          "height": 6426
        }
      },
      "cell_type": "code",
      "source": [
        "model.summary()"
      ],
      "execution_count": 0,
      "outputs": [
        {
          "output_type": "stream",
          "text": [
            "__________________________________________________________________________________________________\n",
            "Layer (type)                    Output Shape         Param #     Connected to                     \n",
            "==================================================================================================\n",
            "input_1 (InputLayer)            (None, 224, 224, 3)  0                                            \n",
            "__________________________________________________________________________________________________\n",
            "zero_padding2d (ZeroPadding2D)  (None, 230, 230, 3)  0           input_1[0][0]                    \n",
            "__________________________________________________________________________________________________\n",
            "conv1 (Conv2D)                  (None, 112, 112, 64) 9472        zero_padding2d[0][0]             \n",
            "__________________________________________________________________________________________________\n",
            "normal_conv1 (BatchNormalizatio (None, 112, 112, 64) 256         conv1[0][0]                      \n",
            "__________________________________________________________________________________________________\n",
            "activation (Activation)         (None, 112, 112, 64) 0           normal_conv1[0][0]               \n",
            "__________________________________________________________________________________________________\n",
            "max_pooling2d (MaxPooling2D)    (None, 55, 55, 64)   0           activation[0][0]                 \n",
            "__________________________________________________________________________________________________\n",
            "res2aa1 (Conv2D)                (None, 55, 55, 64)   4160        max_pooling2d[0][0]              \n",
            "__________________________________________________________________________________________________\n",
            "normalization2aa1 (BatchNormali (None, 55, 55, 64)   256         res2aa1[0][0]                    \n",
            "__________________________________________________________________________________________________\n",
            "activation_1 (Activation)       (None, 55, 55, 64)   0           normalization2aa1[0][0]          \n",
            "__________________________________________________________________________________________________\n",
            "res2ab1 (Conv2D)                (None, 55, 55, 64)   36928       activation_1[0][0]               \n",
            "__________________________________________________________________________________________________\n",
            "normalization2ab1 (BatchNormali (None, 55, 55, 64)   256         res2ab1[0][0]                    \n",
            "__________________________________________________________________________________________________\n",
            "activation_2 (Activation)       (None, 55, 55, 64)   0           normalization2ab1[0][0]          \n",
            "__________________________________________________________________________________________________\n",
            "res2ac1 (Conv2D)                (None, 55, 55, 256)  16640       activation_2[0][0]               \n",
            "__________________________________________________________________________________________________\n",
            "res2a1 (Conv2D)                 (None, 55, 55, 256)  16640       max_pooling2d[0][0]              \n",
            "__________________________________________________________________________________________________\n",
            "normalization2ac1 (BatchNormali (None, 55, 55, 256)  1024        res2ac1[0][0]                    \n",
            "__________________________________________________________________________________________________\n",
            "normalization2a1 (BatchNormaliz (None, 55, 55, 256)  1024        res2a1[0][0]                     \n",
            "__________________________________________________________________________________________________\n",
            "add (Add)                       (None, 55, 55, 256)  0           normalization2ac1[0][0]          \n",
            "                                                                 normalization2a1[0][0]           \n",
            "__________________________________________________________________________________________________\n",
            "activation_3 (Activation)       (None, 55, 55, 256)  0           add[0][0]                        \n",
            "__________________________________________________________________________________________________\n",
            "res2ba1 (Conv2D)                (None, 55, 55, 64)   16448       activation_3[0][0]               \n",
            "__________________________________________________________________________________________________\n",
            "normalization2ba1 (BatchNormali (None, 55, 55, 64)   256         res2ba1[0][0]                    \n",
            "__________________________________________________________________________________________________\n",
            "activation_4 (Activation)       (None, 55, 55, 64)   0           normalization2ba1[0][0]          \n",
            "__________________________________________________________________________________________________\n",
            "res2bb1 (Conv2D)                (None, 55, 55, 64)   36928       activation_4[0][0]               \n",
            "__________________________________________________________________________________________________\n",
            "normalization2bb1 (BatchNormali (None, 55, 55, 64)   256         res2bb1[0][0]                    \n",
            "__________________________________________________________________________________________________\n",
            "activation_5 (Activation)       (None, 55, 55, 64)   0           normalization2bb1[0][0]          \n",
            "__________________________________________________________________________________________________\n",
            "res2bc1 (Conv2D)                (None, 55, 55, 256)  16640       activation_5[0][0]               \n",
            "__________________________________________________________________________________________________\n",
            "normalization2bc1 (BatchNormali (None, 55, 55, 256)  1024        res2bc1[0][0]                    \n",
            "__________________________________________________________________________________________________\n",
            "add_1 (Add)                     (None, 55, 55, 256)  0           normalization2bc1[0][0]          \n",
            "                                                                 activation_3[0][0]               \n",
            "__________________________________________________________________________________________________\n",
            "activation_6 (Activation)       (None, 55, 55, 256)  0           add_1[0][0]                      \n",
            "__________________________________________________________________________________________________\n",
            "res2ca1 (Conv2D)                (None, 55, 55, 64)   16448       activation_6[0][0]               \n",
            "__________________________________________________________________________________________________\n",
            "normalization2ca1 (BatchNormali (None, 55, 55, 64)   256         res2ca1[0][0]                    \n",
            "__________________________________________________________________________________________________\n",
            "activation_7 (Activation)       (None, 55, 55, 64)   0           normalization2ca1[0][0]          \n",
            "__________________________________________________________________________________________________\n",
            "res2cb1 (Conv2D)                (None, 55, 55, 64)   36928       activation_7[0][0]               \n",
            "__________________________________________________________________________________________________\n",
            "normalization2cb1 (BatchNormali (None, 55, 55, 64)   256         res2cb1[0][0]                    \n",
            "__________________________________________________________________________________________________\n",
            "activation_8 (Activation)       (None, 55, 55, 64)   0           normalization2cb1[0][0]          \n",
            "__________________________________________________________________________________________________\n",
            "res2cc1 (Conv2D)                (None, 55, 55, 256)  16640       activation_8[0][0]               \n",
            "__________________________________________________________________________________________________\n",
            "normalization2cc1 (BatchNormali (None, 55, 55, 256)  1024        res2cc1[0][0]                    \n",
            "__________________________________________________________________________________________________\n",
            "add_2 (Add)                     (None, 55, 55, 256)  0           normalization2cc1[0][0]          \n",
            "                                                                 activation_6[0][0]               \n",
            "__________________________________________________________________________________________________\n",
            "activation_9 (Activation)       (None, 55, 55, 256)  0           add_2[0][0]                      \n",
            "__________________________________________________________________________________________________\n",
            "res3aa1 (Conv2D)                (None, 28, 28, 128)  32896       activation_9[0][0]               \n",
            "__________________________________________________________________________________________________\n",
            "normalization3aa1 (BatchNormali (None, 28, 28, 128)  512         res3aa1[0][0]                    \n",
            "__________________________________________________________________________________________________\n",
            "activation_10 (Activation)      (None, 28, 28, 128)  0           normalization3aa1[0][0]          \n",
            "__________________________________________________________________________________________________\n",
            "res3ab1 (Conv2D)                (None, 28, 28, 128)  147584      activation_10[0][0]              \n",
            "__________________________________________________________________________________________________\n",
            "normalization3ab1 (BatchNormali (None, 28, 28, 128)  512         res3ab1[0][0]                    \n",
            "__________________________________________________________________________________________________\n",
            "activation_11 (Activation)      (None, 28, 28, 128)  0           normalization3ab1[0][0]          \n",
            "__________________________________________________________________________________________________\n",
            "res3ac1 (Conv2D)                (None, 28, 28, 512)  66048       activation_11[0][0]              \n",
            "__________________________________________________________________________________________________\n",
            "res3a1 (Conv2D)                 (None, 28, 28, 512)  131584      activation_9[0][0]               \n",
            "__________________________________________________________________________________________________\n",
            "normalization3ac1 (BatchNormali (None, 28, 28, 512)  2048        res3ac1[0][0]                    \n",
            "__________________________________________________________________________________________________\n",
            "normalization3a1 (BatchNormaliz (None, 28, 28, 512)  2048        res3a1[0][0]                     \n",
            "__________________________________________________________________________________________________\n",
            "add_3 (Add)                     (None, 28, 28, 512)  0           normalization3ac1[0][0]          \n",
            "                                                                 normalization3a1[0][0]           \n",
            "__________________________________________________________________________________________________\n",
            "activation_12 (Activation)      (None, 28, 28, 512)  0           add_3[0][0]                      \n",
            "__________________________________________________________________________________________________\n",
            "res3ba1 (Conv2D)                (None, 28, 28, 128)  65664       activation_12[0][0]              \n",
            "__________________________________________________________________________________________________\n",
            "normalization3ba1 (BatchNormali (None, 28, 28, 128)  512         res3ba1[0][0]                    \n",
            "__________________________________________________________________________________________________\n",
            "activation_13 (Activation)      (None, 28, 28, 128)  0           normalization3ba1[0][0]          \n",
            "__________________________________________________________________________________________________\n",
            "res3bb1 (Conv2D)                (None, 28, 28, 128)  147584      activation_13[0][0]              \n",
            "__________________________________________________________________________________________________\n",
            "normalization3bb1 (BatchNormali (None, 28, 28, 128)  512         res3bb1[0][0]                    \n",
            "__________________________________________________________________________________________________\n",
            "activation_14 (Activation)      (None, 28, 28, 128)  0           normalization3bb1[0][0]          \n",
            "__________________________________________________________________________________________________\n",
            "res3bc1 (Conv2D)                (None, 28, 28, 512)  66048       activation_14[0][0]              \n",
            "__________________________________________________________________________________________________\n",
            "normalization3bc1 (BatchNormali (None, 28, 28, 512)  2048        res3bc1[0][0]                    \n",
            "__________________________________________________________________________________________________\n",
            "add_4 (Add)                     (None, 28, 28, 512)  0           normalization3bc1[0][0]          \n",
            "                                                                 activation_12[0][0]              \n",
            "__________________________________________________________________________________________________\n",
            "activation_15 (Activation)      (None, 28, 28, 512)  0           add_4[0][0]                      \n",
            "__________________________________________________________________________________________________\n",
            "res3ca1 (Conv2D)                (None, 28, 28, 128)  65664       activation_15[0][0]              \n",
            "__________________________________________________________________________________________________\n",
            "normalization3ca1 (BatchNormali (None, 28, 28, 128)  512         res3ca1[0][0]                    \n",
            "__________________________________________________________________________________________________\n",
            "activation_16 (Activation)      (None, 28, 28, 128)  0           normalization3ca1[0][0]          \n",
            "__________________________________________________________________________________________________\n",
            "res3cb1 (Conv2D)                (None, 28, 28, 128)  147584      activation_16[0][0]              \n",
            "__________________________________________________________________________________________________\n",
            "normalization3cb1 (BatchNormali (None, 28, 28, 128)  512         res3cb1[0][0]                    \n",
            "__________________________________________________________________________________________________\n",
            "activation_17 (Activation)      (None, 28, 28, 128)  0           normalization3cb1[0][0]          \n",
            "__________________________________________________________________________________________________\n",
            "res3cc1 (Conv2D)                (None, 28, 28, 512)  66048       activation_17[0][0]              \n",
            "__________________________________________________________________________________________________\n",
            "normalization3cc1 (BatchNormali (None, 28, 28, 512)  2048        res3cc1[0][0]                    \n",
            "__________________________________________________________________________________________________\n",
            "add_5 (Add)                     (None, 28, 28, 512)  0           normalization3cc1[0][0]          \n",
            "                                                                 activation_15[0][0]              \n",
            "__________________________________________________________________________________________________\n",
            "activation_18 (Activation)      (None, 28, 28, 512)  0           add_5[0][0]                      \n",
            "__________________________________________________________________________________________________\n",
            "res3da1 (Conv2D)                (None, 28, 28, 128)  65664       activation_18[0][0]              \n",
            "__________________________________________________________________________________________________\n",
            "normalization3da1 (BatchNormali (None, 28, 28, 128)  512         res3da1[0][0]                    \n",
            "__________________________________________________________________________________________________\n",
            "activation_19 (Activation)      (None, 28, 28, 128)  0           normalization3da1[0][0]          \n",
            "__________________________________________________________________________________________________\n",
            "res3db1 (Conv2D)                (None, 28, 28, 128)  147584      activation_19[0][0]              \n",
            "__________________________________________________________________________________________________\n",
            "normalization3db1 (BatchNormali (None, 28, 28, 128)  512         res3db1[0][0]                    \n",
            "__________________________________________________________________________________________________\n",
            "activation_20 (Activation)      (None, 28, 28, 128)  0           normalization3db1[0][0]          \n",
            "__________________________________________________________________________________________________\n",
            "res3dc1 (Conv2D)                (None, 28, 28, 512)  66048       activation_20[0][0]              \n",
            "__________________________________________________________________________________________________\n",
            "normalization3dc1 (BatchNormali (None, 28, 28, 512)  2048        res3dc1[0][0]                    \n",
            "__________________________________________________________________________________________________\n",
            "add_6 (Add)                     (None, 28, 28, 512)  0           normalization3dc1[0][0]          \n",
            "                                                                 activation_18[0][0]              \n",
            "__________________________________________________________________________________________________\n",
            "activation_21 (Activation)      (None, 28, 28, 512)  0           add_6[0][0]                      \n",
            "__________________________________________________________________________________________________\n",
            "res4aa1 (Conv2D)                (None, 14, 14, 256)  131328      activation_21[0][0]              \n",
            "__________________________________________________________________________________________________\n",
            "normalization4aa1 (BatchNormali (None, 14, 14, 256)  1024        res4aa1[0][0]                    \n",
            "__________________________________________________________________________________________________\n",
            "activation_22 (Activation)      (None, 14, 14, 256)  0           normalization4aa1[0][0]          \n",
            "__________________________________________________________________________________________________\n",
            "res4ab1 (Conv2D)                (None, 14, 14, 256)  590080      activation_22[0][0]              \n",
            "__________________________________________________________________________________________________\n",
            "normalization4ab1 (BatchNormali (None, 14, 14, 256)  1024        res4ab1[0][0]                    \n",
            "__________________________________________________________________________________________________\n",
            "activation_23 (Activation)      (None, 14, 14, 256)  0           normalization4ab1[0][0]          \n",
            "__________________________________________________________________________________________________\n",
            "res4ac1 (Conv2D)                (None, 14, 14, 1024) 263168      activation_23[0][0]              \n",
            "__________________________________________________________________________________________________\n",
            "res4a1 (Conv2D)                 (None, 14, 14, 1024) 525312      activation_21[0][0]              \n",
            "__________________________________________________________________________________________________\n",
            "normalization4ac1 (BatchNormali (None, 14, 14, 1024) 4096        res4ac1[0][0]                    \n",
            "__________________________________________________________________________________________________\n",
            "normalization4a1 (BatchNormaliz (None, 14, 14, 1024) 4096        res4a1[0][0]                     \n",
            "__________________________________________________________________________________________________\n",
            "add_7 (Add)                     (None, 14, 14, 1024) 0           normalization4ac1[0][0]          \n",
            "                                                                 normalization4a1[0][0]           \n",
            "__________________________________________________________________________________________________\n",
            "activation_24 (Activation)      (None, 14, 14, 1024) 0           add_7[0][0]                      \n",
            "__________________________________________________________________________________________________\n",
            "res4ba1 (Conv2D)                (None, 14, 14, 256)  262400      activation_24[0][0]              \n",
            "__________________________________________________________________________________________________\n",
            "normalization4ba1 (BatchNormali (None, 14, 14, 256)  1024        res4ba1[0][0]                    \n",
            "__________________________________________________________________________________________________\n",
            "activation_25 (Activation)      (None, 14, 14, 256)  0           normalization4ba1[0][0]          \n",
            "__________________________________________________________________________________________________\n",
            "res4bb1 (Conv2D)                (None, 14, 14, 256)  590080      activation_25[0][0]              \n",
            "__________________________________________________________________________________________________\n",
            "normalization4bb1 (BatchNormali (None, 14, 14, 256)  1024        res4bb1[0][0]                    \n",
            "__________________________________________________________________________________________________\n",
            "activation_26 (Activation)      (None, 14, 14, 256)  0           normalization4bb1[0][0]          \n",
            "__________________________________________________________________________________________________\n",
            "res4bc1 (Conv2D)                (None, 14, 14, 1024) 263168      activation_26[0][0]              \n",
            "__________________________________________________________________________________________________\n",
            "normalization4bc1 (BatchNormali (None, 14, 14, 1024) 4096        res4bc1[0][0]                    \n",
            "__________________________________________________________________________________________________\n",
            "add_8 (Add)                     (None, 14, 14, 1024) 0           normalization4bc1[0][0]          \n",
            "                                                                 activation_24[0][0]              \n",
            "__________________________________________________________________________________________________\n",
            "activation_27 (Activation)      (None, 14, 14, 1024) 0           add_8[0][0]                      \n",
            "__________________________________________________________________________________________________\n",
            "res4ca1 (Conv2D)                (None, 14, 14, 256)  262400      activation_27[0][0]              \n",
            "__________________________________________________________________________________________________\n",
            "normalization4ca1 (BatchNormali (None, 14, 14, 256)  1024        res4ca1[0][0]                    \n",
            "__________________________________________________________________________________________________\n",
            "activation_28 (Activation)      (None, 14, 14, 256)  0           normalization4ca1[0][0]          \n",
            "__________________________________________________________________________________________________\n",
            "res4cb1 (Conv2D)                (None, 14, 14, 256)  590080      activation_28[0][0]              \n",
            "__________________________________________________________________________________________________\n",
            "normalization4cb1 (BatchNormali (None, 14, 14, 256)  1024        res4cb1[0][0]                    \n",
            "__________________________________________________________________________________________________\n",
            "activation_29 (Activation)      (None, 14, 14, 256)  0           normalization4cb1[0][0]          \n",
            "__________________________________________________________________________________________________\n",
            "res4cc1 (Conv2D)                (None, 14, 14, 1024) 263168      activation_29[0][0]              \n",
            "__________________________________________________________________________________________________\n",
            "normalization4cc1 (BatchNormali (None, 14, 14, 1024) 4096        res4cc1[0][0]                    \n",
            "__________________________________________________________________________________________________\n",
            "add_9 (Add)                     (None, 14, 14, 1024) 0           normalization4cc1[0][0]          \n",
            "                                                                 activation_27[0][0]              \n",
            "__________________________________________________________________________________________________\n",
            "activation_30 (Activation)      (None, 14, 14, 1024) 0           add_9[0][0]                      \n",
            "__________________________________________________________________________________________________\n",
            "res4da1 (Conv2D)                (None, 14, 14, 256)  262400      activation_30[0][0]              \n",
            "__________________________________________________________________________________________________\n",
            "normalization4da1 (BatchNormali (None, 14, 14, 256)  1024        res4da1[0][0]                    \n",
            "__________________________________________________________________________________________________\n",
            "activation_31 (Activation)      (None, 14, 14, 256)  0           normalization4da1[0][0]          \n",
            "__________________________________________________________________________________________________\n",
            "res4db1 (Conv2D)                (None, 14, 14, 256)  590080      activation_31[0][0]              \n",
            "__________________________________________________________________________________________________\n",
            "normalization4db1 (BatchNormali (None, 14, 14, 256)  1024        res4db1[0][0]                    \n",
            "__________________________________________________________________________________________________\n",
            "activation_32 (Activation)      (None, 14, 14, 256)  0           normalization4db1[0][0]          \n",
            "__________________________________________________________________________________________________\n",
            "res4dc1 (Conv2D)                (None, 14, 14, 1024) 263168      activation_32[0][0]              \n",
            "__________________________________________________________________________________________________\n",
            "normalization4dc1 (BatchNormali (None, 14, 14, 1024) 4096        res4dc1[0][0]                    \n",
            "__________________________________________________________________________________________________\n",
            "add_10 (Add)                    (None, 14, 14, 1024) 0           normalization4dc1[0][0]          \n",
            "                                                                 activation_30[0][0]              \n",
            "__________________________________________________________________________________________________\n",
            "activation_33 (Activation)      (None, 14, 14, 1024) 0           add_10[0][0]                     \n",
            "__________________________________________________________________________________________________\n",
            "res4ea1 (Conv2D)                (None, 14, 14, 256)  262400      activation_33[0][0]              \n",
            "__________________________________________________________________________________________________\n",
            "normalization4ea1 (BatchNormali (None, 14, 14, 256)  1024        res4ea1[0][0]                    \n",
            "__________________________________________________________________________________________________\n",
            "activation_34 (Activation)      (None, 14, 14, 256)  0           normalization4ea1[0][0]          \n",
            "__________________________________________________________________________________________________\n",
            "res4eb1 (Conv2D)                (None, 14, 14, 256)  590080      activation_34[0][0]              \n",
            "__________________________________________________________________________________________________\n",
            "normalization4eb1 (BatchNormali (None, 14, 14, 256)  1024        res4eb1[0][0]                    \n",
            "__________________________________________________________________________________________________\n",
            "activation_35 (Activation)      (None, 14, 14, 256)  0           normalization4eb1[0][0]          \n",
            "__________________________________________________________________________________________________\n",
            "res4ec1 (Conv2D)                (None, 14, 14, 1024) 263168      activation_35[0][0]              \n",
            "__________________________________________________________________________________________________\n",
            "normalization4ec1 (BatchNormali (None, 14, 14, 1024) 4096        res4ec1[0][0]                    \n",
            "__________________________________________________________________________________________________\n",
            "add_11 (Add)                    (None, 14, 14, 1024) 0           normalization4ec1[0][0]          \n",
            "                                                                 activation_33[0][0]              \n",
            "__________________________________________________________________________________________________\n",
            "activation_36 (Activation)      (None, 14, 14, 1024) 0           add_11[0][0]                     \n",
            "__________________________________________________________________________________________________\n",
            "res4fa1 (Conv2D)                (None, 14, 14, 256)  262400      activation_36[0][0]              \n",
            "__________________________________________________________________________________________________\n",
            "normalization4fa1 (BatchNormali (None, 14, 14, 256)  1024        res4fa1[0][0]                    \n",
            "__________________________________________________________________________________________________\n",
            "activation_37 (Activation)      (None, 14, 14, 256)  0           normalization4fa1[0][0]          \n",
            "__________________________________________________________________________________________________\n",
            "res4fb1 (Conv2D)                (None, 14, 14, 256)  590080      activation_37[0][0]              \n",
            "__________________________________________________________________________________________________\n",
            "normalization4fb1 (BatchNormali (None, 14, 14, 256)  1024        res4fb1[0][0]                    \n",
            "__________________________________________________________________________________________________\n",
            "activation_38 (Activation)      (None, 14, 14, 256)  0           normalization4fb1[0][0]          \n",
            "__________________________________________________________________________________________________\n",
            "res4fc1 (Conv2D)                (None, 14, 14, 1024) 263168      activation_38[0][0]              \n",
            "__________________________________________________________________________________________________\n",
            "normalization4fc1 (BatchNormali (None, 14, 14, 1024) 4096        res4fc1[0][0]                    \n",
            "__________________________________________________________________________________________________\n",
            "add_12 (Add)                    (None, 14, 14, 1024) 0           normalization4fc1[0][0]          \n",
            "                                                                 activation_36[0][0]              \n",
            "__________________________________________________________________________________________________\n",
            "activation_39 (Activation)      (None, 14, 14, 1024) 0           add_12[0][0]                     \n",
            "__________________________________________________________________________________________________\n",
            "res5aa1 (Conv2D)                (None, 7, 7, 512)    524800      activation_39[0][0]              \n",
            "__________________________________________________________________________________________________\n",
            "normalization5aa1 (BatchNormali (None, 7, 7, 512)    2048        res5aa1[0][0]                    \n",
            "__________________________________________________________________________________________________\n",
            "activation_40 (Activation)      (None, 7, 7, 512)    0           normalization5aa1[0][0]          \n",
            "__________________________________________________________________________________________________\n",
            "res5ab1 (Conv2D)                (None, 7, 7, 512)    2359808     activation_40[0][0]              \n",
            "__________________________________________________________________________________________________\n",
            "normalization5ab1 (BatchNormali (None, 7, 7, 512)    2048        res5ab1[0][0]                    \n",
            "__________________________________________________________________________________________________\n",
            "activation_41 (Activation)      (None, 7, 7, 512)    0           normalization5ab1[0][0]          \n",
            "__________________________________________________________________________________________________\n",
            "res5ac1 (Conv2D)                (None, 7, 7, 2048)   1050624     activation_41[0][0]              \n",
            "__________________________________________________________________________________________________\n",
            "res5a1 (Conv2D)                 (None, 7, 7, 2048)   2099200     activation_39[0][0]              \n",
            "__________________________________________________________________________________________________\n",
            "normalization5ac1 (BatchNormali (None, 7, 7, 2048)   8192        res5ac1[0][0]                    \n",
            "__________________________________________________________________________________________________\n",
            "normalization5a1 (BatchNormaliz (None, 7, 7, 2048)   8192        res5a1[0][0]                     \n",
            "__________________________________________________________________________________________________\n",
            "add_13 (Add)                    (None, 7, 7, 2048)   0           normalization5ac1[0][0]          \n",
            "                                                                 normalization5a1[0][0]           \n",
            "__________________________________________________________________________________________________\n",
            "activation_42 (Activation)      (None, 7, 7, 2048)   0           add_13[0][0]                     \n",
            "__________________________________________________________________________________________________\n",
            "res5ba1 (Conv2D)                (None, 7, 7, 512)    1049088     activation_42[0][0]              \n",
            "__________________________________________________________________________________________________\n",
            "normalization5ba1 (BatchNormali (None, 7, 7, 512)    2048        res5ba1[0][0]                    \n",
            "__________________________________________________________________________________________________\n",
            "activation_43 (Activation)      (None, 7, 7, 512)    0           normalization5ba1[0][0]          \n",
            "__________________________________________________________________________________________________\n",
            "res5bb1 (Conv2D)                (None, 7, 7, 512)    2359808     activation_43[0][0]              \n",
            "__________________________________________________________________________________________________\n",
            "normalization5bb1 (BatchNormali (None, 7, 7, 512)    2048        res5bb1[0][0]                    \n",
            "__________________________________________________________________________________________________\n",
            "activation_44 (Activation)      (None, 7, 7, 512)    0           normalization5bb1[0][0]          \n",
            "__________________________________________________________________________________________________\n",
            "res5bc1 (Conv2D)                (None, 7, 7, 2048)   1050624     activation_44[0][0]              \n",
            "__________________________________________________________________________________________________\n",
            "normalization5bc1 (BatchNormali (None, 7, 7, 2048)   8192        res5bc1[0][0]                    \n",
            "__________________________________________________________________________________________________\n",
            "add_14 (Add)                    (None, 7, 7, 2048)   0           normalization5bc1[0][0]          \n",
            "                                                                 activation_42[0][0]              \n",
            "__________________________________________________________________________________________________\n",
            "activation_45 (Activation)      (None, 7, 7, 2048)   0           add_14[0][0]                     \n",
            "__________________________________________________________________________________________________\n",
            "res5ca1 (Conv2D)                (None, 7, 7, 512)    1049088     activation_45[0][0]              \n",
            "__________________________________________________________________________________________________\n",
            "normalization5ca1 (BatchNormali (None, 7, 7, 512)    2048        res5ca1[0][0]                    \n",
            "__________________________________________________________________________________________________\n",
            "activation_46 (Activation)      (None, 7, 7, 512)    0           normalization5ca1[0][0]          \n",
            "__________________________________________________________________________________________________\n",
            "res5cb1 (Conv2D)                (None, 7, 7, 512)    2359808     activation_46[0][0]              \n",
            "__________________________________________________________________________________________________\n",
            "normalization5cb1 (BatchNormali (None, 7, 7, 512)    2048        res5cb1[0][0]                    \n",
            "__________________________________________________________________________________________________\n",
            "activation_47 (Activation)      (None, 7, 7, 512)    0           normalization5cb1[0][0]          \n",
            "__________________________________________________________________________________________________\n",
            "res5cc1 (Conv2D)                (None, 7, 7, 2048)   1050624     activation_47[0][0]              \n",
            "__________________________________________________________________________________________________\n",
            "normalization5cc1 (BatchNormali (None, 7, 7, 2048)   8192        res5cc1[0][0]                    \n",
            "__________________________________________________________________________________________________\n",
            "add_15 (Add)                    (None, 7, 7, 2048)   0           normalization5cc1[0][0]          \n",
            "                                                                 activation_45[0][0]              \n",
            "__________________________________________________________________________________________________\n",
            "activation_48 (Activation)      (None, 7, 7, 2048)   0           add_15[0][0]                     \n",
            "__________________________________________________________________________________________________\n",
            "avg_pool (AveragePooling2D)     (None, 1, 1, 2048)   0           activation_48[0][0]              \n",
            "__________________________________________________________________________________________________\n",
            "flatten (Flatten)               (None, 2048)         0           avg_pool[0][0]                   \n",
            "__________________________________________________________________________________________________\n",
            "fully_connected (Dense)         (None, 228)          467172      flatten[0][0]                    \n",
            "==================================================================================================\n",
            "Total params: 24,054,884\n",
            "Trainable params: 24,001,764\n",
            "Non-trainable params: 53,120\n",
            "__________________________________________________________________________________________________\n"
          ],
          "name": "stdout"
        }
      ]
    },
    {
      "metadata": {
        "id": "j-yDSg-wWaHn",
        "colab_type": "code",
        "colab": {}
      },
      "cell_type": "code",
      "source": [
        "opt = keras.optimizers.Adam(lr=0.001, beta_1=0.9, beta_2=0.999, epsilon=None, decay=0.0, amsgrad=False)\n",
        "#using Adam optimizer with learning rate 0.001\n",
        "model.compile(optimizer=opt, loss='binary_crossentropy')\n",
        "#compiling model with binary_crossentropy loss\n",
        "#i.e {−(ylog(p)+(1−y)log(1−p))}\n",
        "#for our case it is multi-class −∑c=1Myo,clog(po,c)"
      ],
      "execution_count": 0,
      "outputs": []
    },
    {
      "metadata": {
        "id": "6AHjUbukWeE_",
        "colab_type": "code",
        "colab": {}
      },
      "cell_type": "code",
      "source": [
        "batch_size = 32\n",
        "iterations = 1000"
      ],
      "execution_count": 0,
      "outputs": []
    },
    {
      "metadata": {
        "id": "lTePcESkWeJg",
        "colab_type": "code",
        "outputId": "a25860e0-c362-48d8-c421-9cdd6f943357",
        "colab": {
          "base_uri": "https://localhost:8080/",
          "height": 187
        }
      },
      "cell_type": "code",
      "source": [
        "start = 0\n",
        "for step in range(iterations):\n",
        "    \n",
        "    stop = start + batch_size #bound limit for batch_size also end of next batch\n",
        "    \n",
        "    batch_imgs = images[start: stop] #extracting batch from images\n",
        "    batch_labels = final_labels[start: stop] #extracting batch from labels\n",
        "    \n",
        "    loss = model.train_on_batch(batch_imgs, batch_labels) #training and getting loss\n",
        "    \n",
        "    start += batch_size #aggregating size of datset also start of next batch\n",
        "    if start > len(images) - batch_size: #if size exceeds restart\n",
        "      start = 0\n",
        "\n",
        "    #Occasionally save / plot\n",
        "    if step % 100 == 0:\n",
        "        # Save model weights\n",
        "        model.save_weights('model.h5')\n",
        "\n",
        "        # Print metrics\n",
        "        print('loss at step %s: %s' % (step, loss))"
      ],
      "execution_count": 0,
      "outputs": [
        {
          "output_type": "stream",
          "text": [
            "loss at step 0: 0.8257232\n",
            "loss at step 100: 0.124198474\n",
            "loss at step 200: 0.10357322\n",
            "loss at step 300: 0.10315785\n",
            "loss at step 400: 0.10758574\n",
            "loss at step 500: 0.10855302\n",
            "loss at step 600: 0.10844151\n",
            "loss at step 700: 0.10929327\n",
            "loss at step 800: 0.104526594\n",
            "loss at step 900: 0.110868186\n"
          ],
          "name": "stdout"
        }
      ]
    },
    {
      "metadata": {
        "id": "dX87hLpRegQP",
        "colab_type": "code",
        "colab": {}
      },
      "cell_type": "code",
      "source": [
        "#making a batch for testing model\n",
        "test_images = []\n",
        "i=0\n",
        "for img in glob.glob(\"Data/train/*.jpg\"):\n",
        "    if i == 20 :\n",
        "      break\n",
        "    img = image.load_img(img, target_size=(224, 224))\n",
        "    x = image.img_to_array(img)\n",
        "    x = preprocess_input(x)\n",
        "    test_images.append(x)\n",
        "    i = i + 1\n",
        "test_images = np.asarray(test_images)"
      ],
      "execution_count": 0,
      "outputs": []
    },
    {
      "metadata": {
        "id": "7UNFR6XQfxAS",
        "colab_type": "code",
        "colab": {}
      },
      "cell_type": "code",
      "source": [
        "prediction = model.predict(test_images)\n",
        "#getting prediction tensor"
      ],
      "execution_count": 0,
      "outputs": []
    },
    {
      "metadata": {
        "id": "W6IUZWcbeyH2",
        "colab_type": "code",
        "outputId": "4d389a3d-d036-4d6d-9aa2-c7f8d24b009f",
        "colab": {
          "base_uri": "https://localhost:8080/",
          "height": 34
        }
      },
      "cell_type": "code",
      "source": [
        "prediction.shape"
      ],
      "execution_count": 0,
      "outputs": [
        {
          "output_type": "execute_result",
          "data": {
            "text/plain": [
              "(20, 228)"
            ]
          },
          "metadata": {
            "tags": []
          },
          "execution_count": 38
        }
      ]
    },
    {
      "metadata": {
        "id": "-TTL2h3teQKx",
        "colab_type": "code",
        "colab": {}
      },
      "cell_type": "code",
      "source": [
        "#rounding off predictions into one and zero for batch_size =20 and number_of_classes = 228\n",
        "for j in range(20):\n",
        "  for i in range(228):\n",
        "    if prediction[j][i] >= 0.5:\n",
        "      prediction[j][i] = 1\n",
        "    else:\n",
        "      prediction[j][i] = 0"
      ],
      "execution_count": 0,
      "outputs": []
    },
    {
      "metadata": {
        "id": "bDEIeevQf4vB",
        "colab_type": "code",
        "colab": {}
      },
      "cell_type": "code",
      "source": [
        "def top_ten_class(prediction):\n",
        "    \n",
        "    sum_pred = np.zeros(228)  \n",
        "    for i in prediction:\n",
        "        sum_pred = i + sum_pred #summing all the prediction element wise\n",
        "    top_ten_idx = (-sum_pred).argsort()[:10] # finding index of top ten maximum elements in the tensor \n",
        "    return top_ten_idx"
      ],
      "execution_count": 0,
      "outputs": []
    },
    {
      "metadata": {
        "id": "bUPjwHUlhCxL",
        "colab_type": "code",
        "colab": {}
      },
      "cell_type": "code",
      "source": [
        "indexes = top_ten_class(prediction)"
      ],
      "execution_count": 0,
      "outputs": []
    },
    {
      "metadata": {
        "id": "b3hCfEgwjCeO",
        "colab_type": "code",
        "outputId": "d59c7cce-55a1-4a17-a5a0-be540014d418",
        "colab": {
          "base_uri": "https://localhost:8080/",
          "height": 34
        }
      },
      "cell_type": "code",
      "source": [
        "indexes"
      ],
      "execution_count": 0,
      "outputs": [
        {
          "output_type": "execute_result",
          "data": {
            "text/plain": [
              "array([ 65, 221, 183, 145, 146, 147, 148, 149, 150, 151])"
            ]
          },
          "metadata": {
            "tags": []
          },
          "execution_count": 63
        }
      ]
    },
    {
      "metadata": {
        "id": "bKJ0EWEDjDom",
        "colab_type": "code",
        "colab": {}
      },
      "cell_type": "code",
      "source": [
        ""
      ],
      "execution_count": 0,
      "outputs": []
    }
  ]
}