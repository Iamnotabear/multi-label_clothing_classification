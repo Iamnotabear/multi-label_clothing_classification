{
  "nbformat": 4,
  "nbformat_minor": 0,
  "metadata": {
    "colab": {
      "name": "resnet50_multi-label_clothing_classification.ipynb",
      "provenance": [],
      "collapsed_sections": []
    },
    "kernelspec": {
      "name": "python3",
      "display_name": "Python 3"
    },
    "accelerator": "GPU"
  },
  "cells": [
    {
      "cell_type": "code",
      "metadata": {
        "id": "gaaIr_L_uefE",
        "colab_type": "code",
        "outputId": "8cee0658-feac-4736-c74d-733eb663031d",
        "colab": {
          "base_uri": "https://localhost:8080/",
          "height": 118
        }
      },
      "source": [
        "# Load the Drive helper and mount\n",
        "from google.colab import drive\n",
        "\n",
        "# This will prompt for authorization.\n",
        "drive.mount('/content/drive')"
      ],
      "execution_count": 1,
      "outputs": [
        {
          "output_type": "stream",
          "text": [
            "Go to this URL in a browser: https://accounts.google.com/o/oauth2/auth?client_id=947318989803-6bn6qk8qdgf4n4g3pfee6491hc0brc4i.apps.googleusercontent.com&redirect_uri=urn%3aietf%3awg%3aoauth%3a2.0%3aoob&response_type=code&scope=email%20https%3a%2f%2fwww.googleapis.com%2fauth%2fdocs.test%20https%3a%2f%2fwww.googleapis.com%2fauth%2fdrive%20https%3a%2f%2fwww.googleapis.com%2fauth%2fdrive.photos.readonly%20https%3a%2f%2fwww.googleapis.com%2fauth%2fpeopleapi.readonly\n",
            "\n",
            "Enter your authorization code:\n",
            "··········\n",
            "Mounted at /content/drive\n"
          ],
          "name": "stdout"
        }
      ]
    },
    {
      "cell_type": "code",
      "metadata": {
        "id": "beR_IlFurP1D",
        "colab_type": "code",
        "colab": {
          "base_uri": "https://localhost:8080/",
          "height": 33
        },
        "outputId": "c79a616a-ca1e-4657-c491-f4368b9d945f"
      },
      "source": [
        "cd /content/drive/My Drive"
      ],
      "execution_count": 2,
      "outputs": [
        {
          "output_type": "stream",
          "text": [
            "/content/drive/My Drive\n"
          ],
          "name": "stdout"
        }
      ]
    },
    {
      "cell_type": "code",
      "metadata": {
        "id": "3Sg3hFTFrcWi",
        "colab_type": "code",
        "colab": {
          "base_uri": "https://localhost:8080/",
          "height": 440
        },
        "outputId": "86000b58-80e8-4450-cac0-725a2da49579"
      },
      "source": [
        "!unzip Image_1.zip"
      ],
      "execution_count": 12,
      "outputs": [
        {
          "output_type": "stream",
          "text": [
            "Archive:  Image_1.zip\n",
            "   creating: Image_1/\n",
            "  inflating: Image_1/.DS_Store       \n",
            "   creating: __MACOSX/\n",
            "   creating: __MACOSX/Image_1/\n",
            "  inflating: __MACOSX/Image_1/._.DS_Store  \n",
            "   creating: Image_1/Code/\n",
            "   creating: Image_1/Configuration/\n",
            "  inflating: Image_1/Configuration/.DS_Store  \n",
            "   creating: __MACOSX/Image_1/Configuration/\n",
            "  inflating: __MACOSX/Image_1/Configuration/._.DS_Store  \n",
            "  inflating: Image_1/Configuration/config.csv  \n",
            "  inflating: Image_1/Data.zip        \n",
            "   creating: Image_1/Input/\n",
            "  inflating: Image_1/Input/.DS_Store  \n",
            "   creating: __MACOSX/Image_1/Input/\n",
            "  inflating: __MACOSX/Image_1/Input/._.DS_Store  \n",
            "  inflating: Image_1/Input/train_labels.csv  \n",
            "  inflating: Image_1/Input/validation_labels.csv  \n",
            "   creating: Image_1/Output/\n",
            "  inflating: Image_1/Output/.DS_Store  \n",
            "   creating: __MACOSX/Image_1/Output/\n",
            "  inflating: __MACOSX/Image_1/Output/._.DS_Store  \n",
            "  inflating: Image_1/Output/results.csv  \n",
            "  inflating: Image_1/Round1_Problem1-of-1_Problem.pdf  \n",
            "  inflating: __MACOSX/Image_1/._Round1_Problem1-of-1_Problem.pdf  \n"
          ],
          "name": "stdout"
        }
      ]
    },
    {
      "cell_type": "code",
      "metadata": {
        "id": "Usu_V3IYso1K",
        "colab_type": "code",
        "colab": {}
      },
      "source": [
        "!unzip ./Image_1/Data.zip"
      ],
      "execution_count": 0,
      "outputs": []
    },
    {
      "cell_type": "code",
      "metadata": {
        "id": "DBBhDIzysEDV",
        "colab_type": "code",
        "colab": {
          "base_uri": "https://localhost:8080/",
          "height": 77
        },
        "outputId": "c4c5e173-f488-45fd-fcf4-f0239aac56cf"
      },
      "source": [
        "import pandas as pd\n",
        "#importing pandas for reading csv\n",
        "import numpy as np\n",
        "#importing numpy for matrix operartions\n",
        "from collections import defaultdict\n",
        "#importing defaultdict for making dictionaries\n",
        "\n",
        "import tensorflow as tf\n",
        "import tensorflow.keras as keras\n",
        "from tensorflow.keras.layers import Input\n",
        "from tensorflow.keras import layers\n",
        "from tensorflow.keras.layers import Dense\n",
        "from tensorflow.keras.layers import Activation\n",
        "from tensorflow.keras.layers import Flatten\n",
        "from tensorflow.keras.layers import Conv2D\n",
        "from tensorflow.keras.layers import MaxPooling2D\n",
        "from tensorflow.keras.layers import GlobalMaxPooling2D\n",
        "from tensorflow.keras.layers import ZeroPadding2D\n",
        "from tensorflow.keras.layers import AveragePooling2D\n",
        "from tensorflow.keras.layers import GlobalAveragePooling2D\n",
        "from tensorflow.keras.layers import BatchNormalization\n",
        "\n",
        "from tensorflow.keras.models import Model\n",
        "#functional API\n",
        "\n",
        "from tensorflow.keras.preprocessing import image\n",
        "#loading images\n",
        "\n",
        "from keras.utils import layer_utils\n",
        "\n",
        "from keras.applications.imagenet_utils import preprocess_input\n",
        "#preprocessing images\n",
        "\n",
        "import glob\n",
        "#importing images"
      ],
      "execution_count": 14,
      "outputs": [
        {
          "output_type": "display_data",
          "data": {
            "text/html": [
              "<p style=\"color: red;\">\n",
              "The default version of TensorFlow in Colab will soon switch to TensorFlow 2.x.<br>\n",
              "We recommend you <a href=\"https://www.tensorflow.org/guide/migrate\" target=\"_blank\">upgrade</a> now \n",
              "or ensure your notebook will continue to use TensorFlow 1.x via the <code>%tensorflow_version 1.x</code> magic:\n",
              "<a href=\"https://colab.research.google.com/notebooks/tensorflow_version.ipynb\" target=\"_blank\">more info</a>.</p>\n"
            ],
            "text/plain": [
              "<IPython.core.display.HTML object>"
            ]
          },
          "metadata": {
            "tags": []
          }
        },
        {
          "output_type": "stream",
          "text": [
            "Using TensorFlow backend.\n"
          ],
          "name": "stderr"
        }
      ]
    },
    {
      "cell_type": "code",
      "metadata": {
        "id": "Km0EhrQCsiPf",
        "colab_type": "code",
        "colab": {
          "base_uri": "https://localhost:8080/",
          "height": 391
        },
        "outputId": "dbbd7967-3480-458d-acb7-624f4066e723"
      },
      "source": [
        "data = pd.read_csv('Image_1/Input/validation_labels.csv')\n",
        "#importing and reading csv labels through pandas\n",
        "data"
      ],
      "execution_count": 61,
      "outputs": [
        {
          "output_type": "execute_result",
          "data": {
            "text/html": [
              "<div>\n",
              "<style scoped>\n",
              "    .dataframe tbody tr th:only-of-type {\n",
              "        vertical-align: middle;\n",
              "    }\n",
              "\n",
              "    .dataframe tbody tr th {\n",
              "        vertical-align: top;\n",
              "    }\n",
              "\n",
              "    .dataframe thead th {\n",
              "        text-align: right;\n",
              "    }\n",
              "</style>\n",
              "<table border=\"1\" class=\"dataframe\">\n",
              "  <thead>\n",
              "    <tr style=\"text-align: right;\">\n",
              "      <th></th>\n",
              "      <th>labels</th>\n",
              "      <th>imageId</th>\n",
              "    </tr>\n",
              "  </thead>\n",
              "  <tbody>\n",
              "    <tr>\n",
              "      <th>0</th>\n",
              "      <td>[u'62', u'17', u'66', u'214', u'105', u'137', ...</td>\n",
              "      <td>1</td>\n",
              "    </tr>\n",
              "    <tr>\n",
              "      <th>1</th>\n",
              "      <td>[u'95', u'17', u'66', u'214', u'164', u'137', ...</td>\n",
              "      <td>2</td>\n",
              "    </tr>\n",
              "    <tr>\n",
              "      <th>2</th>\n",
              "      <td>[u'122', u'19', u'66', u'186', u'180', u'44', ...</td>\n",
              "      <td>3</td>\n",
              "    </tr>\n",
              "    <tr>\n",
              "      <th>3</th>\n",
              "      <td>[u'190', u'222', u'66', u'153', u'164', u'226'...</td>\n",
              "      <td>4</td>\n",
              "    </tr>\n",
              "    <tr>\n",
              "      <th>4</th>\n",
              "      <td>[u'62', u'66', u'153', u'171', u'111', u'137',...</td>\n",
              "      <td>5</td>\n",
              "    </tr>\n",
              "    <tr>\n",
              "      <th>...</th>\n",
              "      <td>...</td>\n",
              "      <td>...</td>\n",
              "    </tr>\n",
              "    <tr>\n",
              "      <th>2995</th>\n",
              "      <td>[u'95', u'17', u'66', u'53', u'184']</td>\n",
              "      <td>2996</td>\n",
              "    </tr>\n",
              "    <tr>\n",
              "      <th>2996</th>\n",
              "      <td>[u'129', u'17', u'66', u'203']</td>\n",
              "      <td>2997</td>\n",
              "    </tr>\n",
              "    <tr>\n",
              "      <th>2997</th>\n",
              "      <td>[u'62', u'17', u'66', u'153', u'171', u'137', ...</td>\n",
              "      <td>2998</td>\n",
              "    </tr>\n",
              "    <tr>\n",
              "      <th>2998</th>\n",
              "      <td>[u'61', u'106', u'49', u'105', u'19', u'111', ...</td>\n",
              "      <td>2999</td>\n",
              "    </tr>\n",
              "    <tr>\n",
              "      <th>2999</th>\n",
              "      <td>[u'57', u'222', u'113', u'153', u'105', u'111'...</td>\n",
              "      <td>3000</td>\n",
              "    </tr>\n",
              "  </tbody>\n",
              "</table>\n",
              "<p>3000 rows × 2 columns</p>\n",
              "</div>"
            ],
            "text/plain": [
              "                                                 labels  imageId\n",
              "0     [u'62', u'17', u'66', u'214', u'105', u'137', ...        1\n",
              "1     [u'95', u'17', u'66', u'214', u'164', u'137', ...        2\n",
              "2     [u'122', u'19', u'66', u'186', u'180', u'44', ...        3\n",
              "3     [u'190', u'222', u'66', u'153', u'164', u'226'...        4\n",
              "4     [u'62', u'66', u'153', u'171', u'111', u'137',...        5\n",
              "...                                                 ...      ...\n",
              "2995               [u'95', u'17', u'66', u'53', u'184']     2996\n",
              "2996                     [u'129', u'17', u'66', u'203']     2997\n",
              "2997  [u'62', u'17', u'66', u'153', u'171', u'137', ...     2998\n",
              "2998  [u'61', u'106', u'49', u'105', u'19', u'111', ...     2999\n",
              "2999  [u'57', u'222', u'113', u'153', u'105', u'111'...     3000\n",
              "\n",
              "[3000 rows x 2 columns]"
            ]
          },
          "metadata": {
            "tags": []
          },
          "execution_count": 61
        }
      ]
    },
    {
      "cell_type": "code",
      "metadata": {
        "id": "yIecF2qSssd3",
        "colab_type": "code",
        "colab": {}
      },
      "source": [
        "int_max = -1\n",
        "#setting int_max -1 to find the number of classes\n",
        "dict_data = defaultdict(list)\n",
        "#making a dictionary for storing labels which will be converted to list and then numpy array for feeding\n",
        "for i in range(len(data)):\n",
        "    labels = []\n",
        "    label_id = data['labels'][i]\n",
        "    list_label = label_id.split(\",\") #spiltting the extracted label string by \",\"\n",
        "    for item in list_label:\n",
        "        list_int = item.split(\"'\") #splitting the splitted string by \"'\"\n",
        "        int_item = int(list_int[1])\n",
        "        labels.append( int_item ) #got int label from the string labels\n",
        "        if int_max < int_item:\n",
        "            int_max = int_item #checking and changing max_int value for finding number of classes\n",
        "    dict_data[i].append(labels) #appending int labels to dictionary"
      ],
      "execution_count": 0,
      "outputs": []
    },
    {
      "cell_type": "code",
      "metadata": {
        "id": "gk01uqUlsuLk",
        "colab_type": "code",
        "colab": {}
      },
      "source": [
        "final_labels = [] #converting multilabels into one hot vectors of size number of classes i.e. int_max\n",
        "for i in range(len(dict_data)):\n",
        "    final_label_list = [0]*(int_max) #making a zero valued list of size number of classes\n",
        "    for j in dict_data[i][0]:\n",
        "        final_label_list[j-1] = 1 #setting label index of final_labels \n",
        "    final_labels.append(final_label_list) #appening lists of one hot vector"
      ],
      "execution_count": 0,
      "outputs": []
    },
    {
      "cell_type": "code",
      "metadata": {
        "id": "b6xUq996swOW",
        "colab_type": "code",
        "colab": {}
      },
      "source": [
        "final_labels = np.asarray(final_labels) #converting into numpy array"
      ],
      "execution_count": 0,
      "outputs": []
    },
    {
      "cell_type": "code",
      "metadata": {
        "id": "0a-hvFmWsyb_",
        "colab_type": "code",
        "colab": {}
      },
      "source": [
        "images = [] #making images list\n",
        "for img in glob.glob(\"Data/validation/*.jpg\"): #iterating images into given folder\n",
        "    img = image.load_img(img, target_size=(224, 224)) #loading images and resizing to 224*224 as needed by resNet\n",
        "    x = image.img_to_array(img) #images to array\n",
        "    #x = preprocess_input(x) #preprocessing to feed in resNet\n",
        "    images.append(x)# appnding the  images to list"
      ],
      "execution_count": 0,
      "outputs": []
    },
    {
      "cell_type": "code",
      "metadata": {
        "id": "Zica06Ihs5Uu",
        "colab_type": "code",
        "colab": {}
      },
      "source": [
        "images = np.asarray(images) #converting into numpy array"
      ],
      "execution_count": 0,
      "outputs": []
    },
    {
      "cell_type": "code",
      "metadata": {
        "id": "-HZ4BSHrvoCS",
        "colab_type": "code",
        "colab": {}
      },
      "source": [
        "#making identity block it is just a direct connection without any layer in between\n",
        "\n",
        "def identity(input_tensor, kernel_size, filters, stage, block):\n",
        "    \n",
        "    \n",
        "    filters1, filters2, filters3 = filters #number of filters  needed for convolving the 3 layers\n",
        "    \n",
        "    bn_axis = 3 #batch normalisation along the axis of channels\n",
        "    \n",
        "    conv_name = 'res'+ str(stage) + block #setting convolution layer name stage+block\n",
        "    normal_name = 'normalization' + str(stage) + block #setting branch normalization layer name stage+block\n",
        "\n",
        "    x = Conv2D(filters1, (1, 1), name=conv_name + 'a1')(input_tensor)\n",
        "    #feeding in input tensor(image numpy array) and convolving it using number of filter1 and 1*1 kernel size\n",
        "    \n",
        "    x = BatchNormalization(axis=bn_axis, name=normal_name+ 'a1')(x)\n",
        "    #normalizing the batch to centre it's bias and variance\n",
        "    #done before non-linearity\n",
        "    x = Activation('relu')(x)\n",
        "\n",
        "    x = Conv2D(filters2, kernel_size,padding='same', name=conv_name + 'b1')(x)\n",
        "    #applying convolution of number filters2 and kernel size acc to block\n",
        "    \n",
        "    x = BatchNormalization(axis=bn_axis, name=normal_name + 'b1')(x)\n",
        "    x = Activation('relu')(x)\n",
        "\n",
        "    x = Conv2D(filters3, (1, 1), name=conv_name + 'c1')(x)\n",
        "    x = BatchNormalization(axis=bn_axis, name=normal_name  + 'c1')(x)\n",
        "\n",
        "    x = layers.add([x, input_tensor])\n",
        "    #skip/residual connection from direct input without any layer in between\n",
        "    x = Activation('relu')(x)\n",
        "    \n",
        "    return x"
      ],
      "execution_count": 0,
      "outputs": []
    },
    {
      "cell_type": "code",
      "metadata": {
        "id": "msGwNq3lU12B",
        "colab_type": "code",
        "colab": {}
      },
      "source": [
        "#making shortcut connection which contains linear layer\n",
        "\n",
        "def shortcut(input_tensor, kernel_size, filters, stage, block, strides=(2, 2)):\n",
        "    \n",
        "    \n",
        "    filters1, filters2, filters3 = filters\n",
        "    bn_axis = 3\n",
        "    \n",
        "    conv_name = 'res' + str(stage) + block\n",
        "    normal_name = 'normalization' + str(stage) + block\n",
        "\n",
        "    x = Conv2D(filters1, (1, 1), strides=strides,name=conv_name + 'a1')(input_tensor)\n",
        "    x = BatchNormalization(axis=bn_axis, name=normal_name+ 'a1')(x)\n",
        "    x = Activation('relu')(x)\n",
        "\n",
        "    x = Conv2D(filters2, kernel_size, padding='same',name=conv_name + 'b1' )(x)\n",
        "    x = BatchNormalization(axis=bn_axis, name=normal_name+ 'b1' )(x)\n",
        "    x = Activation('relu')(x)\n",
        "\n",
        "    x = Conv2D(filters3, (1, 1), name=conv_name + 'c1')(x)\n",
        "    x = BatchNormalization(axis=bn_axis, name=normal_name + 'c1')(x)\n",
        "\n",
        "    shortcut = Conv2D(filters3, (1, 1), strides=strides, name=conv_name + '1')(input_tensor)\n",
        "    #skip/residual connections' middle layer joined with input tensor\n",
        "    shortcut = BatchNormalization(axis=bn_axis, name=normal_name + '1')(shortcut)\n",
        "\n",
        "    x = layers.add([x, shortcut])\n",
        "    #making residual connection with shortcut in between\n",
        "    x = Activation('relu')(x)\n",
        "    return x"
      ],
      "execution_count": 0,
      "outputs": []
    },
    {
      "cell_type": "code",
      "metadata": {
        "id": "DTqvsX5mVJGR",
        "colab_type": "code",
        "colab": {}
      },
      "source": [
        "def ResNet50(include_top=True,pooling=None,classes=int_max):\n",
        "\n",
        "    input_shape = (224, 224, 3)\n",
        "    #input tensors' shape\n",
        "    img_input = Input(shape=input_shape)\n",
        "    \n",
        "    bn_axis = 3\n",
        "    #batch normalization axis\n",
        "    \n",
        "    x = ZeroPadding2D((3, 3))(img_input)\n",
        "    #padding the input tensors with zeros for considering edges of the images\n",
        "    \n",
        "    x = Conv2D(64, (7, 7), strides=(2, 2), name='conv1')(x)\n",
        "    x = BatchNormalization(axis=bn_axis, name='normal_conv1')(x)\n",
        "    x = Activation('relu')(x)\n",
        "    \n",
        "    x = MaxPooling2D((3, 3), strides=(2, 2))(x)\n",
        "    #max pooling for getting max value in the window of size 3*3\n",
        "    #with stride 2*2\n",
        "    \n",
        "    x = shortcut(x, 3, [64, 64, 256], stage=2, block='a', strides=(1, 1))\n",
        "    x = identity(x, 3, [64, 64, 256], stage=2, block='b')\n",
        "    x = identity(x, 3, [64, 64, 256], stage=2, block='c')\n",
        "    #3 blocks\n",
        "    \n",
        "    x = shortcut(x, 3, [128, 128, 512], stage=3, block='a')\n",
        "    x = identity(x, 3, [128, 128, 512], stage=3, block='b')\n",
        "    x = identity(x, 3, [128, 128, 512], stage=3, block='c')\n",
        "    x = identity(x, 3, [128, 128, 512], stage=3, block='d')\n",
        "    #4 blocks\n",
        "    \n",
        "    x = shortcut(x, 3, [256, 256, 1024], stage=4, block='a')\n",
        "    x = identity(x, 3, [256, 256, 1024], stage=4, block='b')\n",
        "    x = identity(x, 3, [256, 256, 1024], stage=4, block='c')\n",
        "    x = identity(x, 3, [256, 256, 1024], stage=4, block='d')\n",
        "    x = identity(x, 3, [256, 256, 1024], stage=4, block='e')\n",
        "    x = identity(x, 3, [256, 256, 1024], stage=4, block='f')\n",
        "    #6 blocks\n",
        "    \n",
        "    x = shortcut(x, 3, [512, 512, 2048], stage=5, block='a')\n",
        "    x = identity(x, 3, [512, 512, 2048], stage=5, block='b')\n",
        "    x = identity(x, 3, [512, 512, 2048], stage=5, block='c')\n",
        "    #3 blocks\n",
        "    \n",
        "    x = AveragePooling2D((7, 7), name='avg_pool')(x)\n",
        "    #average pooling to get a average in a window of size 7*7\n",
        "    \n",
        "    x = Flatten()(x)\n",
        "    #flattening conv feature output to make a fully connected layer\n",
        "    \n",
        "    x = Dense(classes, activation='sigmoid', name='fully_connected')(x)\n",
        "    #number of output neurons equals to the size of number of classes\n",
        "    #with activation sigmoid for multi-label classification\n",
        "    \n",
        "    inputs = img_input\n",
        "    \n",
        "    # Create model.\n",
        "    model = Model(inputs, x, name='resnet50')\n",
        "\n",
        "    # load weights\n",
        "    return model"
      ],
      "execution_count": 0,
      "outputs": []
    },
    {
      "cell_type": "code",
      "metadata": {
        "id": "ksfH2oJBvzaz",
        "colab_type": "code",
        "colab": {}
      },
      "source": [
        "model = ResNet50()\n",
        "#initiating model"
      ],
      "execution_count": 0,
      "outputs": []
    },
    {
      "cell_type": "code",
      "metadata": {
        "id": "8RSF-EliVO4n",
        "colab_type": "code",
        "outputId": "f501f2c4-8565-4ba0-fc2b-d328504225ff",
        "colab": {
          "base_uri": "https://localhost:8080/",
          "height": 1000
        }
      },
      "source": [
        "model.summary()"
      ],
      "execution_count": 71,
      "outputs": [
        {
          "output_type": "stream",
          "text": [
            "Model: \"resnet50\"\n",
            "__________________________________________________________________________________________________\n",
            "Layer (type)                    Output Shape         Param #     Connected to                     \n",
            "==================================================================================================\n",
            "input_2 (InputLayer)            [(None, 224, 224, 3) 0                                            \n",
            "__________________________________________________________________________________________________\n",
            "zero_padding2d_1 (ZeroPadding2D (None, 230, 230, 3)  0           input_2[0][0]                    \n",
            "__________________________________________________________________________________________________\n",
            "conv1 (Conv2D)                  (None, 112, 112, 64) 9472        zero_padding2d_1[0][0]           \n",
            "__________________________________________________________________________________________________\n",
            "normal_conv1 (BatchNormalizatio (None, 112, 112, 64) 256         conv1[0][0]                      \n",
            "__________________________________________________________________________________________________\n",
            "activation_49 (Activation)      (None, 112, 112, 64) 0           normal_conv1[0][0]               \n",
            "__________________________________________________________________________________________________\n",
            "max_pooling2d_1 (MaxPooling2D)  (None, 55, 55, 64)   0           activation_49[0][0]              \n",
            "__________________________________________________________________________________________________\n",
            "res2aa1 (Conv2D)                (None, 55, 55, 64)   4160        max_pooling2d_1[0][0]            \n",
            "__________________________________________________________________________________________________\n",
            "normalization2aa1 (BatchNormali (None, 55, 55, 64)   256         res2aa1[0][0]                    \n",
            "__________________________________________________________________________________________________\n",
            "activation_50 (Activation)      (None, 55, 55, 64)   0           normalization2aa1[0][0]          \n",
            "__________________________________________________________________________________________________\n",
            "res2ab1 (Conv2D)                (None, 55, 55, 64)   36928       activation_50[0][0]              \n",
            "__________________________________________________________________________________________________\n",
            "normalization2ab1 (BatchNormali (None, 55, 55, 64)   256         res2ab1[0][0]                    \n",
            "__________________________________________________________________________________________________\n",
            "activation_51 (Activation)      (None, 55, 55, 64)   0           normalization2ab1[0][0]          \n",
            "__________________________________________________________________________________________________\n",
            "res2ac1 (Conv2D)                (None, 55, 55, 256)  16640       activation_51[0][0]              \n",
            "__________________________________________________________________________________________________\n",
            "res2a1 (Conv2D)                 (None, 55, 55, 256)  16640       max_pooling2d_1[0][0]            \n",
            "__________________________________________________________________________________________________\n",
            "normalization2ac1 (BatchNormali (None, 55, 55, 256)  1024        res2ac1[0][0]                    \n",
            "__________________________________________________________________________________________________\n",
            "normalization2a1 (BatchNormaliz (None, 55, 55, 256)  1024        res2a1[0][0]                     \n",
            "__________________________________________________________________________________________________\n",
            "add_16 (Add)                    (None, 55, 55, 256)  0           normalization2ac1[0][0]          \n",
            "                                                                 normalization2a1[0][0]           \n",
            "__________________________________________________________________________________________________\n",
            "activation_52 (Activation)      (None, 55, 55, 256)  0           add_16[0][0]                     \n",
            "__________________________________________________________________________________________________\n",
            "res2ba1 (Conv2D)                (None, 55, 55, 64)   16448       activation_52[0][0]              \n",
            "__________________________________________________________________________________________________\n",
            "normalization2ba1 (BatchNormali (None, 55, 55, 64)   256         res2ba1[0][0]                    \n",
            "__________________________________________________________________________________________________\n",
            "activation_53 (Activation)      (None, 55, 55, 64)   0           normalization2ba1[0][0]          \n",
            "__________________________________________________________________________________________________\n",
            "res2bb1 (Conv2D)                (None, 55, 55, 64)   36928       activation_53[0][0]              \n",
            "__________________________________________________________________________________________________\n",
            "normalization2bb1 (BatchNormali (None, 55, 55, 64)   256         res2bb1[0][0]                    \n",
            "__________________________________________________________________________________________________\n",
            "activation_54 (Activation)      (None, 55, 55, 64)   0           normalization2bb1[0][0]          \n",
            "__________________________________________________________________________________________________\n",
            "res2bc1 (Conv2D)                (None, 55, 55, 256)  16640       activation_54[0][0]              \n",
            "__________________________________________________________________________________________________\n",
            "normalization2bc1 (BatchNormali (None, 55, 55, 256)  1024        res2bc1[0][0]                    \n",
            "__________________________________________________________________________________________________\n",
            "add_17 (Add)                    (None, 55, 55, 256)  0           normalization2bc1[0][0]          \n",
            "                                                                 activation_52[0][0]              \n",
            "__________________________________________________________________________________________________\n",
            "activation_55 (Activation)      (None, 55, 55, 256)  0           add_17[0][0]                     \n",
            "__________________________________________________________________________________________________\n",
            "res2ca1 (Conv2D)                (None, 55, 55, 64)   16448       activation_55[0][0]              \n",
            "__________________________________________________________________________________________________\n",
            "normalization2ca1 (BatchNormali (None, 55, 55, 64)   256         res2ca1[0][0]                    \n",
            "__________________________________________________________________________________________________\n",
            "activation_56 (Activation)      (None, 55, 55, 64)   0           normalization2ca1[0][0]          \n",
            "__________________________________________________________________________________________________\n",
            "res2cb1 (Conv2D)                (None, 55, 55, 64)   36928       activation_56[0][0]              \n",
            "__________________________________________________________________________________________________\n",
            "normalization2cb1 (BatchNormali (None, 55, 55, 64)   256         res2cb1[0][0]                    \n",
            "__________________________________________________________________________________________________\n",
            "activation_57 (Activation)      (None, 55, 55, 64)   0           normalization2cb1[0][0]          \n",
            "__________________________________________________________________________________________________\n",
            "res2cc1 (Conv2D)                (None, 55, 55, 256)  16640       activation_57[0][0]              \n",
            "__________________________________________________________________________________________________\n",
            "normalization2cc1 (BatchNormali (None, 55, 55, 256)  1024        res2cc1[0][0]                    \n",
            "__________________________________________________________________________________________________\n",
            "add_18 (Add)                    (None, 55, 55, 256)  0           normalization2cc1[0][0]          \n",
            "                                                                 activation_55[0][0]              \n",
            "__________________________________________________________________________________________________\n",
            "activation_58 (Activation)      (None, 55, 55, 256)  0           add_18[0][0]                     \n",
            "__________________________________________________________________________________________________\n",
            "res3aa1 (Conv2D)                (None, 28, 28, 128)  32896       activation_58[0][0]              \n",
            "__________________________________________________________________________________________________\n",
            "normalization3aa1 (BatchNormali (None, 28, 28, 128)  512         res3aa1[0][0]                    \n",
            "__________________________________________________________________________________________________\n",
            "activation_59 (Activation)      (None, 28, 28, 128)  0           normalization3aa1[0][0]          \n",
            "__________________________________________________________________________________________________\n",
            "res3ab1 (Conv2D)                (None, 28, 28, 128)  147584      activation_59[0][0]              \n",
            "__________________________________________________________________________________________________\n",
            "normalization3ab1 (BatchNormali (None, 28, 28, 128)  512         res3ab1[0][0]                    \n",
            "__________________________________________________________________________________________________\n",
            "activation_60 (Activation)      (None, 28, 28, 128)  0           normalization3ab1[0][0]          \n",
            "__________________________________________________________________________________________________\n",
            "res3ac1 (Conv2D)                (None, 28, 28, 512)  66048       activation_60[0][0]              \n",
            "__________________________________________________________________________________________________\n",
            "res3a1 (Conv2D)                 (None, 28, 28, 512)  131584      activation_58[0][0]              \n",
            "__________________________________________________________________________________________________\n",
            "normalization3ac1 (BatchNormali (None, 28, 28, 512)  2048        res3ac1[0][0]                    \n",
            "__________________________________________________________________________________________________\n",
            "normalization3a1 (BatchNormaliz (None, 28, 28, 512)  2048        res3a1[0][0]                     \n",
            "__________________________________________________________________________________________________\n",
            "add_19 (Add)                    (None, 28, 28, 512)  0           normalization3ac1[0][0]          \n",
            "                                                                 normalization3a1[0][0]           \n",
            "__________________________________________________________________________________________________\n",
            "activation_61 (Activation)      (None, 28, 28, 512)  0           add_19[0][0]                     \n",
            "__________________________________________________________________________________________________\n",
            "res3ba1 (Conv2D)                (None, 28, 28, 128)  65664       activation_61[0][0]              \n",
            "__________________________________________________________________________________________________\n",
            "normalization3ba1 (BatchNormali (None, 28, 28, 128)  512         res3ba1[0][0]                    \n",
            "__________________________________________________________________________________________________\n",
            "activation_62 (Activation)      (None, 28, 28, 128)  0           normalization3ba1[0][0]          \n",
            "__________________________________________________________________________________________________\n",
            "res3bb1 (Conv2D)                (None, 28, 28, 128)  147584      activation_62[0][0]              \n",
            "__________________________________________________________________________________________________\n",
            "normalization3bb1 (BatchNormali (None, 28, 28, 128)  512         res3bb1[0][0]                    \n",
            "__________________________________________________________________________________________________\n",
            "activation_63 (Activation)      (None, 28, 28, 128)  0           normalization3bb1[0][0]          \n",
            "__________________________________________________________________________________________________\n",
            "res3bc1 (Conv2D)                (None, 28, 28, 512)  66048       activation_63[0][0]              \n",
            "__________________________________________________________________________________________________\n",
            "normalization3bc1 (BatchNormali (None, 28, 28, 512)  2048        res3bc1[0][0]                    \n",
            "__________________________________________________________________________________________________\n",
            "add_20 (Add)                    (None, 28, 28, 512)  0           normalization3bc1[0][0]          \n",
            "                                                                 activation_61[0][0]              \n",
            "__________________________________________________________________________________________________\n",
            "activation_64 (Activation)      (None, 28, 28, 512)  0           add_20[0][0]                     \n",
            "__________________________________________________________________________________________________\n",
            "res3ca1 (Conv2D)                (None, 28, 28, 128)  65664       activation_64[0][0]              \n",
            "__________________________________________________________________________________________________\n",
            "normalization3ca1 (BatchNormali (None, 28, 28, 128)  512         res3ca1[0][0]                    \n",
            "__________________________________________________________________________________________________\n",
            "activation_65 (Activation)      (None, 28, 28, 128)  0           normalization3ca1[0][0]          \n",
            "__________________________________________________________________________________________________\n",
            "res3cb1 (Conv2D)                (None, 28, 28, 128)  147584      activation_65[0][0]              \n",
            "__________________________________________________________________________________________________\n",
            "normalization3cb1 (BatchNormali (None, 28, 28, 128)  512         res3cb1[0][0]                    \n",
            "__________________________________________________________________________________________________\n",
            "activation_66 (Activation)      (None, 28, 28, 128)  0           normalization3cb1[0][0]          \n",
            "__________________________________________________________________________________________________\n",
            "res3cc1 (Conv2D)                (None, 28, 28, 512)  66048       activation_66[0][0]              \n",
            "__________________________________________________________________________________________________\n",
            "normalization3cc1 (BatchNormali (None, 28, 28, 512)  2048        res3cc1[0][0]                    \n",
            "__________________________________________________________________________________________________\n",
            "add_21 (Add)                    (None, 28, 28, 512)  0           normalization3cc1[0][0]          \n",
            "                                                                 activation_64[0][0]              \n",
            "__________________________________________________________________________________________________\n",
            "activation_67 (Activation)      (None, 28, 28, 512)  0           add_21[0][0]                     \n",
            "__________________________________________________________________________________________________\n",
            "res3da1 (Conv2D)                (None, 28, 28, 128)  65664       activation_67[0][0]              \n",
            "__________________________________________________________________________________________________\n",
            "normalization3da1 (BatchNormali (None, 28, 28, 128)  512         res3da1[0][0]                    \n",
            "__________________________________________________________________________________________________\n",
            "activation_68 (Activation)      (None, 28, 28, 128)  0           normalization3da1[0][0]          \n",
            "__________________________________________________________________________________________________\n",
            "res3db1 (Conv2D)                (None, 28, 28, 128)  147584      activation_68[0][0]              \n",
            "__________________________________________________________________________________________________\n",
            "normalization3db1 (BatchNormali (None, 28, 28, 128)  512         res3db1[0][0]                    \n",
            "__________________________________________________________________________________________________\n",
            "activation_69 (Activation)      (None, 28, 28, 128)  0           normalization3db1[0][0]          \n",
            "__________________________________________________________________________________________________\n",
            "res3dc1 (Conv2D)                (None, 28, 28, 512)  66048       activation_69[0][0]              \n",
            "__________________________________________________________________________________________________\n",
            "normalization3dc1 (BatchNormali (None, 28, 28, 512)  2048        res3dc1[0][0]                    \n",
            "__________________________________________________________________________________________________\n",
            "add_22 (Add)                    (None, 28, 28, 512)  0           normalization3dc1[0][0]          \n",
            "                                                                 activation_67[0][0]              \n",
            "__________________________________________________________________________________________________\n",
            "activation_70 (Activation)      (None, 28, 28, 512)  0           add_22[0][0]                     \n",
            "__________________________________________________________________________________________________\n",
            "res4aa1 (Conv2D)                (None, 14, 14, 256)  131328      activation_70[0][0]              \n",
            "__________________________________________________________________________________________________\n",
            "normalization4aa1 (BatchNormali (None, 14, 14, 256)  1024        res4aa1[0][0]                    \n",
            "__________________________________________________________________________________________________\n",
            "activation_71 (Activation)      (None, 14, 14, 256)  0           normalization4aa1[0][0]          \n",
            "__________________________________________________________________________________________________\n",
            "res4ab1 (Conv2D)                (None, 14, 14, 256)  590080      activation_71[0][0]              \n",
            "__________________________________________________________________________________________________\n",
            "normalization4ab1 (BatchNormali (None, 14, 14, 256)  1024        res4ab1[0][0]                    \n",
            "__________________________________________________________________________________________________\n",
            "activation_72 (Activation)      (None, 14, 14, 256)  0           normalization4ab1[0][0]          \n",
            "__________________________________________________________________________________________________\n",
            "res4ac1 (Conv2D)                (None, 14, 14, 1024) 263168      activation_72[0][0]              \n",
            "__________________________________________________________________________________________________\n",
            "res4a1 (Conv2D)                 (None, 14, 14, 1024) 525312      activation_70[0][0]              \n",
            "__________________________________________________________________________________________________\n",
            "normalization4ac1 (BatchNormali (None, 14, 14, 1024) 4096        res4ac1[0][0]                    \n",
            "__________________________________________________________________________________________________\n",
            "normalization4a1 (BatchNormaliz (None, 14, 14, 1024) 4096        res4a1[0][0]                     \n",
            "__________________________________________________________________________________________________\n",
            "add_23 (Add)                    (None, 14, 14, 1024) 0           normalization4ac1[0][0]          \n",
            "                                                                 normalization4a1[0][0]           \n",
            "__________________________________________________________________________________________________\n",
            "activation_73 (Activation)      (None, 14, 14, 1024) 0           add_23[0][0]                     \n",
            "__________________________________________________________________________________________________\n",
            "res4ba1 (Conv2D)                (None, 14, 14, 256)  262400      activation_73[0][0]              \n",
            "__________________________________________________________________________________________________\n",
            "normalization4ba1 (BatchNormali (None, 14, 14, 256)  1024        res4ba1[0][0]                    \n",
            "__________________________________________________________________________________________________\n",
            "activation_74 (Activation)      (None, 14, 14, 256)  0           normalization4ba1[0][0]          \n",
            "__________________________________________________________________________________________________\n",
            "res4bb1 (Conv2D)                (None, 14, 14, 256)  590080      activation_74[0][0]              \n",
            "__________________________________________________________________________________________________\n",
            "normalization4bb1 (BatchNormali (None, 14, 14, 256)  1024        res4bb1[0][0]                    \n",
            "__________________________________________________________________________________________________\n",
            "activation_75 (Activation)      (None, 14, 14, 256)  0           normalization4bb1[0][0]          \n",
            "__________________________________________________________________________________________________\n",
            "res4bc1 (Conv2D)                (None, 14, 14, 1024) 263168      activation_75[0][0]              \n",
            "__________________________________________________________________________________________________\n",
            "normalization4bc1 (BatchNormali (None, 14, 14, 1024) 4096        res4bc1[0][0]                    \n",
            "__________________________________________________________________________________________________\n",
            "add_24 (Add)                    (None, 14, 14, 1024) 0           normalization4bc1[0][0]          \n",
            "                                                                 activation_73[0][0]              \n",
            "__________________________________________________________________________________________________\n",
            "activation_76 (Activation)      (None, 14, 14, 1024) 0           add_24[0][0]                     \n",
            "__________________________________________________________________________________________________\n",
            "res4ca1 (Conv2D)                (None, 14, 14, 256)  262400      activation_76[0][0]              \n",
            "__________________________________________________________________________________________________\n",
            "normalization4ca1 (BatchNormali (None, 14, 14, 256)  1024        res4ca1[0][0]                    \n",
            "__________________________________________________________________________________________________\n",
            "activation_77 (Activation)      (None, 14, 14, 256)  0           normalization4ca1[0][0]          \n",
            "__________________________________________________________________________________________________\n",
            "res4cb1 (Conv2D)                (None, 14, 14, 256)  590080      activation_77[0][0]              \n",
            "__________________________________________________________________________________________________\n",
            "normalization4cb1 (BatchNormali (None, 14, 14, 256)  1024        res4cb1[0][0]                    \n",
            "__________________________________________________________________________________________________\n",
            "activation_78 (Activation)      (None, 14, 14, 256)  0           normalization4cb1[0][0]          \n",
            "__________________________________________________________________________________________________\n",
            "res4cc1 (Conv2D)                (None, 14, 14, 1024) 263168      activation_78[0][0]              \n",
            "__________________________________________________________________________________________________\n",
            "normalization4cc1 (BatchNormali (None, 14, 14, 1024) 4096        res4cc1[0][0]                    \n",
            "__________________________________________________________________________________________________\n",
            "add_25 (Add)                    (None, 14, 14, 1024) 0           normalization4cc1[0][0]          \n",
            "                                                                 activation_76[0][0]              \n",
            "__________________________________________________________________________________________________\n",
            "activation_79 (Activation)      (None, 14, 14, 1024) 0           add_25[0][0]                     \n",
            "__________________________________________________________________________________________________\n",
            "res4da1 (Conv2D)                (None, 14, 14, 256)  262400      activation_79[0][0]              \n",
            "__________________________________________________________________________________________________\n",
            "normalization4da1 (BatchNormali (None, 14, 14, 256)  1024        res4da1[0][0]                    \n",
            "__________________________________________________________________________________________________\n",
            "activation_80 (Activation)      (None, 14, 14, 256)  0           normalization4da1[0][0]          \n",
            "__________________________________________________________________________________________________\n",
            "res4db1 (Conv2D)                (None, 14, 14, 256)  590080      activation_80[0][0]              \n",
            "__________________________________________________________________________________________________\n",
            "normalization4db1 (BatchNormali (None, 14, 14, 256)  1024        res4db1[0][0]                    \n",
            "__________________________________________________________________________________________________\n",
            "activation_81 (Activation)      (None, 14, 14, 256)  0           normalization4db1[0][0]          \n",
            "__________________________________________________________________________________________________\n",
            "res4dc1 (Conv2D)                (None, 14, 14, 1024) 263168      activation_81[0][0]              \n",
            "__________________________________________________________________________________________________\n",
            "normalization4dc1 (BatchNormali (None, 14, 14, 1024) 4096        res4dc1[0][0]                    \n",
            "__________________________________________________________________________________________________\n",
            "add_26 (Add)                    (None, 14, 14, 1024) 0           normalization4dc1[0][0]          \n",
            "                                                                 activation_79[0][0]              \n",
            "__________________________________________________________________________________________________\n",
            "activation_82 (Activation)      (None, 14, 14, 1024) 0           add_26[0][0]                     \n",
            "__________________________________________________________________________________________________\n",
            "res4ea1 (Conv2D)                (None, 14, 14, 256)  262400      activation_82[0][0]              \n",
            "__________________________________________________________________________________________________\n",
            "normalization4ea1 (BatchNormali (None, 14, 14, 256)  1024        res4ea1[0][0]                    \n",
            "__________________________________________________________________________________________________\n",
            "activation_83 (Activation)      (None, 14, 14, 256)  0           normalization4ea1[0][0]          \n",
            "__________________________________________________________________________________________________\n",
            "res4eb1 (Conv2D)                (None, 14, 14, 256)  590080      activation_83[0][0]              \n",
            "__________________________________________________________________________________________________\n",
            "normalization4eb1 (BatchNormali (None, 14, 14, 256)  1024        res4eb1[0][0]                    \n",
            "__________________________________________________________________________________________________\n",
            "activation_84 (Activation)      (None, 14, 14, 256)  0           normalization4eb1[0][0]          \n",
            "__________________________________________________________________________________________________\n",
            "res4ec1 (Conv2D)                (None, 14, 14, 1024) 263168      activation_84[0][0]              \n",
            "__________________________________________________________________________________________________\n",
            "normalization4ec1 (BatchNormali (None, 14, 14, 1024) 4096        res4ec1[0][0]                    \n",
            "__________________________________________________________________________________________________\n",
            "add_27 (Add)                    (None, 14, 14, 1024) 0           normalization4ec1[0][0]          \n",
            "                                                                 activation_82[0][0]              \n",
            "__________________________________________________________________________________________________\n",
            "activation_85 (Activation)      (None, 14, 14, 1024) 0           add_27[0][0]                     \n",
            "__________________________________________________________________________________________________\n",
            "res4fa1 (Conv2D)                (None, 14, 14, 256)  262400      activation_85[0][0]              \n",
            "__________________________________________________________________________________________________\n",
            "normalization4fa1 (BatchNormali (None, 14, 14, 256)  1024        res4fa1[0][0]                    \n",
            "__________________________________________________________________________________________________\n",
            "activation_86 (Activation)      (None, 14, 14, 256)  0           normalization4fa1[0][0]          \n",
            "__________________________________________________________________________________________________\n",
            "res4fb1 (Conv2D)                (None, 14, 14, 256)  590080      activation_86[0][0]              \n",
            "__________________________________________________________________________________________________\n",
            "normalization4fb1 (BatchNormali (None, 14, 14, 256)  1024        res4fb1[0][0]                    \n",
            "__________________________________________________________________________________________________\n",
            "activation_87 (Activation)      (None, 14, 14, 256)  0           normalization4fb1[0][0]          \n",
            "__________________________________________________________________________________________________\n",
            "res4fc1 (Conv2D)                (None, 14, 14, 1024) 263168      activation_87[0][0]              \n",
            "__________________________________________________________________________________________________\n",
            "normalization4fc1 (BatchNormali (None, 14, 14, 1024) 4096        res4fc1[0][0]                    \n",
            "__________________________________________________________________________________________________\n",
            "add_28 (Add)                    (None, 14, 14, 1024) 0           normalization4fc1[0][0]          \n",
            "                                                                 activation_85[0][0]              \n",
            "__________________________________________________________________________________________________\n",
            "activation_88 (Activation)      (None, 14, 14, 1024) 0           add_28[0][0]                     \n",
            "__________________________________________________________________________________________________\n",
            "res5aa1 (Conv2D)                (None, 7, 7, 512)    524800      activation_88[0][0]              \n",
            "__________________________________________________________________________________________________\n",
            "normalization5aa1 (BatchNormali (None, 7, 7, 512)    2048        res5aa1[0][0]                    \n",
            "__________________________________________________________________________________________________\n",
            "activation_89 (Activation)      (None, 7, 7, 512)    0           normalization5aa1[0][0]          \n",
            "__________________________________________________________________________________________________\n",
            "res5ab1 (Conv2D)                (None, 7, 7, 512)    2359808     activation_89[0][0]              \n",
            "__________________________________________________________________________________________________\n",
            "normalization5ab1 (BatchNormali (None, 7, 7, 512)    2048        res5ab1[0][0]                    \n",
            "__________________________________________________________________________________________________\n",
            "activation_90 (Activation)      (None, 7, 7, 512)    0           normalization5ab1[0][0]          \n",
            "__________________________________________________________________________________________________\n",
            "res5ac1 (Conv2D)                (None, 7, 7, 2048)   1050624     activation_90[0][0]              \n",
            "__________________________________________________________________________________________________\n",
            "res5a1 (Conv2D)                 (None, 7, 7, 2048)   2099200     activation_88[0][0]              \n",
            "__________________________________________________________________________________________________\n",
            "normalization5ac1 (BatchNormali (None, 7, 7, 2048)   8192        res5ac1[0][0]                    \n",
            "__________________________________________________________________________________________________\n",
            "normalization5a1 (BatchNormaliz (None, 7, 7, 2048)   8192        res5a1[0][0]                     \n",
            "__________________________________________________________________________________________________\n",
            "add_29 (Add)                    (None, 7, 7, 2048)   0           normalization5ac1[0][0]          \n",
            "                                                                 normalization5a1[0][0]           \n",
            "__________________________________________________________________________________________________\n",
            "activation_91 (Activation)      (None, 7, 7, 2048)   0           add_29[0][0]                     \n",
            "__________________________________________________________________________________________________\n",
            "res5ba1 (Conv2D)                (None, 7, 7, 512)    1049088     activation_91[0][0]              \n",
            "__________________________________________________________________________________________________\n",
            "normalization5ba1 (BatchNormali (None, 7, 7, 512)    2048        res5ba1[0][0]                    \n",
            "__________________________________________________________________________________________________\n",
            "activation_92 (Activation)      (None, 7, 7, 512)    0           normalization5ba1[0][0]          \n",
            "__________________________________________________________________________________________________\n",
            "res5bb1 (Conv2D)                (None, 7, 7, 512)    2359808     activation_92[0][0]              \n",
            "__________________________________________________________________________________________________\n",
            "normalization5bb1 (BatchNormali (None, 7, 7, 512)    2048        res5bb1[0][0]                    \n",
            "__________________________________________________________________________________________________\n",
            "activation_93 (Activation)      (None, 7, 7, 512)    0           normalization5bb1[0][0]          \n",
            "__________________________________________________________________________________________________\n",
            "res5bc1 (Conv2D)                (None, 7, 7, 2048)   1050624     activation_93[0][0]              \n",
            "__________________________________________________________________________________________________\n",
            "normalization5bc1 (BatchNormali (None, 7, 7, 2048)   8192        res5bc1[0][0]                    \n",
            "__________________________________________________________________________________________________\n",
            "add_30 (Add)                    (None, 7, 7, 2048)   0           normalization5bc1[0][0]          \n",
            "                                                                 activation_91[0][0]              \n",
            "__________________________________________________________________________________________________\n",
            "activation_94 (Activation)      (None, 7, 7, 2048)   0           add_30[0][0]                     \n",
            "__________________________________________________________________________________________________\n",
            "res5ca1 (Conv2D)                (None, 7, 7, 512)    1049088     activation_94[0][0]              \n",
            "__________________________________________________________________________________________________\n",
            "normalization5ca1 (BatchNormali (None, 7, 7, 512)    2048        res5ca1[0][0]                    \n",
            "__________________________________________________________________________________________________\n",
            "activation_95 (Activation)      (None, 7, 7, 512)    0           normalization5ca1[0][0]          \n",
            "__________________________________________________________________________________________________\n",
            "res5cb1 (Conv2D)                (None, 7, 7, 512)    2359808     activation_95[0][0]              \n",
            "__________________________________________________________________________________________________\n",
            "normalization5cb1 (BatchNormali (None, 7, 7, 512)    2048        res5cb1[0][0]                    \n",
            "__________________________________________________________________________________________________\n",
            "activation_96 (Activation)      (None, 7, 7, 512)    0           normalization5cb1[0][0]          \n",
            "__________________________________________________________________________________________________\n",
            "res5cc1 (Conv2D)                (None, 7, 7, 2048)   1050624     activation_96[0][0]              \n",
            "__________________________________________________________________________________________________\n",
            "normalization5cc1 (BatchNormali (None, 7, 7, 2048)   8192        res5cc1[0][0]                    \n",
            "__________________________________________________________________________________________________\n",
            "add_31 (Add)                    (None, 7, 7, 2048)   0           normalization5cc1[0][0]          \n",
            "                                                                 activation_94[0][0]              \n",
            "__________________________________________________________________________________________________\n",
            "activation_97 (Activation)      (None, 7, 7, 2048)   0           add_31[0][0]                     \n",
            "__________________________________________________________________________________________________\n",
            "avg_pool (AveragePooling2D)     (None, 1, 1, 2048)   0           activation_97[0][0]              \n",
            "__________________________________________________________________________________________________\n",
            "flatten_1 (Flatten)             (None, 2048)         0           avg_pool[0][0]                   \n",
            "__________________________________________________________________________________________________\n",
            "fully_connected (Dense)         (None, 228)          467172      flatten_1[0][0]                  \n",
            "==================================================================================================\n",
            "Total params: 24,054,884\n",
            "Trainable params: 24,001,764\n",
            "Non-trainable params: 53,120\n",
            "__________________________________________________________________________________________________\n"
          ],
          "name": "stdout"
        }
      ]
    },
    {
      "cell_type": "code",
      "metadata": {
        "id": "j-yDSg-wWaHn",
        "colab_type": "code",
        "colab": {}
      },
      "source": [
        "opt = keras.optimizers.Adam(lr=0.0001)\n",
        "#using Adam optimizer with learning rate 0.001\n",
        "model.compile(optimizer=opt, loss='binary_crossentropy')\n",
        "#compiling model with binary_crossentropy loss\n",
        "#i.e {−(ylog(p)+(1−y)log(1−p))}\n",
        "#for our case it is multi-class −∑c=1Myo,clog(po,c)"
      ],
      "execution_count": 0,
      "outputs": []
    },
    {
      "cell_type": "code",
      "metadata": {
        "id": "6AHjUbukWeE_",
        "colab_type": "code",
        "colab": {}
      },
      "source": [
        "batch_size = 16\n",
        "iterations = 10000"
      ],
      "execution_count": 0,
      "outputs": []
    },
    {
      "cell_type": "code",
      "metadata": {
        "id": "xCKWPSlCNH7q",
        "colab_type": "code",
        "colab": {}
      },
      "source": [
        "import matplotlib.pyplot as plt"
      ],
      "execution_count": 0,
      "outputs": []
    },
    {
      "cell_type": "code",
      "metadata": {
        "id": "QxmaNfFSNE0g",
        "colab_type": "code",
        "colab": {
          "base_uri": "https://localhost:8080/",
          "height": 285
        },
        "outputId": "1abf0311-caf1-4825-cab8-3f8c2758f1a5"
      },
      "source": [
        "plt.imshow(images[693]/255.0)"
      ],
      "execution_count": 76,
      "outputs": [
        {
          "output_type": "execute_result",
          "data": {
            "text/plain": [
              "<matplotlib.image.AxesImage at 0x7faaec52bbe0>"
            ]
          },
          "metadata": {
            "tags": []
          },
          "execution_count": 76
        },
        {
          "output_type": "display_data",
          "data": {
            "image/png": "[encoded data removed]",
            "text/plain": [
              "<Figure size 432x288 with 1 Axes>"
            ]
          },
          "metadata": {
            "tags": []
          }
        }
      ]
    },
    {
      "cell_type": "code",
      "metadata": {
        "id": "lTePcESkWeJg",
        "colab_type": "code",
        "outputId": "481d8e19-2539-4c4f-d0d3-463ca52d2137",
        "colab": {
          "base_uri": "https://localhost:8080/",
          "height": 1000
        }
      },
      "source": [
        "start = 0\n",
        "for step in range(iterations):\n",
        "    \n",
        "    stop = start + batch_size #bound limit for batch_size also end of next batch\n",
        "    \n",
        "    batch_imgs = images[start: stop]/255.0 #extracting batch from images\n",
        "    batch_labels = final_labels[start: stop] #extracting batch from labels\n",
        "    \n",
        "    loss = model.train_on_batch(batch_imgs, batch_labels) #training and getting loss\n",
        "    \n",
        "    start += batch_size #aggregating size of datset also start of next batch\n",
        "    if start > len(images) - batch_size: #if size exceeds restart\n",
        "      start = 0\n",
        "\n",
        "    #Occasionally save / plot\n",
        "    if step % 100 == 0:\n",
        "        # Save model weights\n",
        "        model.save_weights('model.h5')\n",
        "\n",
        "        # Print metrics\n",
        "        print('loss at step %s: %s' % (step, loss))"
      ],
      "execution_count": 77,
      "outputs": [
        {
          "output_type": "stream",
          "text": [
            "loss at step 0: 0.8726824\n",
            "loss at step 100: 0.09681887\n",
            "loss at step 200: 0.10288881\n",
            "loss at step 300: 0.10108637\n",
            "loss at step 400: 0.10358474\n",
            "loss at step 500: 0.10598713\n",
            "loss at step 600: 0.11023336\n",
            "loss at step 700: 0.11154494\n",
            "loss at step 800: 0.10698265\n",
            "loss at step 900: 0.09942675\n",
            "loss at step 1000: 0.10721386\n",
            "loss at step 1100: 0.10479718\n",
            "loss at step 1200: 0.10169744\n",
            "loss at step 1300: 0.100581005\n",
            "loss at step 1400: 0.10211319\n",
            "loss at step 1500: 0.09505927\n",
            "loss at step 1600: 0.10204086\n",
            "loss at step 1700: 0.09314655\n",
            "loss at step 1800: 0.08498001\n",
            "loss at step 1900: 0.09280937\n",
            "loss at step 2000: 0.08326071\n",
            "loss at step 2100: 0.078655824\n",
            "loss at step 2200: 0.0911969\n",
            "loss at step 2300: 0.06684279\n",
            "loss at step 2400: 0.06486829\n",
            "loss at step 2500: 0.07292861\n",
            "loss at step 2600: 0.046357967\n",
            "loss at step 2700: 0.06992163\n",
            "loss at step 2800: 0.054513365\n",
            "loss at step 2900: 0.045873117\n",
            "loss at step 3000: 0.041073166\n",
            "loss at step 3100: 0.035152342\n",
            "loss at step 3200: 0.028642165\n",
            "loss at step 3300: 0.026733644\n",
            "loss at step 3400: 0.029686723\n",
            "loss at step 3500: 0.026015796\n",
            "loss at step 3600: 0.02337376\n",
            "loss at step 3700: 0.015440057\n",
            "loss at step 3800: 0.018416476\n",
            "loss at step 3900: 0.01984615\n",
            "loss at step 4000: 0.013141802\n",
            "loss at step 4100: 0.011673085\n",
            "loss at step 4200: 0.010624858\n",
            "loss at step 4300: 0.010819364\n",
            "loss at step 4400: 0.013694292\n",
            "loss at step 4500: 0.009618351\n",
            "loss at step 4600: 0.008175205\n",
            "loss at step 4700: 0.007933019\n",
            "loss at step 4800: 0.009356397\n",
            "loss at step 4900: 0.007165278\n",
            "loss at step 5000: 0.010079551\n",
            "loss at step 5100: 0.007143927\n",
            "loss at step 5200: 0.005508419\n",
            "loss at step 5300: 0.0041129137\n",
            "loss at step 5400: 0.00707598\n",
            "loss at step 5500: 0.0059130806\n",
            "loss at step 5600: 0.0044993134\n",
            "loss at step 5700: 0.0037666308\n",
            "loss at step 5800: 0.0056898594\n",
            "loss at step 5900: 0.0038747243\n",
            "loss at step 6000: 0.0033082026\n",
            "loss at step 6100: 0.0039761267\n",
            "loss at step 6200: 0.0058433358\n",
            "loss at step 6300: 0.0058321194\n",
            "loss at step 6400: 0.005438316\n",
            "loss at step 6500: 0.0046982775\n",
            "loss at step 6600: 0.0067467215\n",
            "loss at step 6700: 0.0064559104\n",
            "loss at step 6800: 0.0065371366\n",
            "loss at step 6900: 0.00714167\n",
            "loss at step 7000: 0.0048770346\n",
            "loss at step 7100: 0.008016093\n",
            "loss at step 7200: 0.005258863\n",
            "loss at step 7300: 0.0032870842\n",
            "loss at step 7400: 0.003912758\n",
            "loss at step 7500: 0.002485293\n",
            "loss at step 7600: 0.0031255386\n",
            "loss at step 7700: 0.00283853\n",
            "loss at step 7800: 0.0014901764\n",
            "loss at step 7900: 0.0037225452\n",
            "loss at step 8000: 0.0013482065\n",
            "loss at step 8100: 0.0024108342\n",
            "loss at step 8200: 0.0046624653\n",
            "loss at step 8300: 0.0021958076\n",
            "loss at step 8400: 0.0022764048\n",
            "loss at step 8500: 0.001940198\n",
            "loss at step 8600: 0.0025052475\n",
            "loss at step 8700: 0.0039431406\n",
            "loss at step 8800: 0.0037076105\n",
            "loss at step 8900: 0.006664592\n",
            "loss at step 9000: 0.014899942\n",
            "loss at step 9100: 0.019990314\n",
            "loss at step 9200: 0.010733968\n",
            "loss at step 9300: 0.009047545\n",
            "loss at step 9400: 0.00692784\n",
            "loss at step 9500: 0.002054946\n",
            "loss at step 9600: 0.0029426345\n",
            "loss at step 9700: 0.001403301\n",
            "loss at step 9800: 0.0037478784\n",
            "loss at step 9900: 0.0014079761\n"
          ],
          "name": "stdout"
        }
      ]
    },
    {
      "cell_type": "code",
      "metadata": {
        "id": "dX87hLpRegQP",
        "colab_type": "code",
        "colab": {}
      },
      "source": [
        "#making a batch for testing model\n",
        "test_images = []\n",
        "i=0\n",
        "for img in glob.glob(\"Data/train/*.jpg\"):\n",
        "    if i == 20 :\n",
        "      break\n",
        "    img = image.load_img(img, target_size=(224, 224))\n",
        "    x = image.img_to_array(img)\n",
        "    x = preprocess_input(x)\n",
        "    test_images.append(x)\n",
        "    i = i + 1\n",
        "test_images = np.asarray(test_images)"
      ],
      "execution_count": 0,
      "outputs": []
    },
    {
      "cell_type": "code",
      "metadata": {
        "id": "7UNFR6XQfxAS",
        "colab_type": "code",
        "colab": {}
      },
      "source": [
        "prediction = model.predict(test_images)\n",
        "#getting prediction tensor"
      ],
      "execution_count": 0,
      "outputs": []
    },
    {
      "cell_type": "code",
      "metadata": {
        "id": "W6IUZWcbeyH2",
        "colab_type": "code",
        "outputId": "ca0c5c1c-1c87-4dd0-891e-2071b042e5b9",
        "colab": {
          "base_uri": "https://localhost:8080/",
          "height": 33
        }
      },
      "source": [
        "prediction.shape"
      ],
      "execution_count": 80,
      "outputs": [
        {
          "output_type": "execute_result",
          "data": {
            "text/plain": [
              "(20, 228)"
            ]
          },
          "metadata": {
            "tags": []
          },
          "execution_count": 80
        }
      ]
    },
    {
      "cell_type": "code",
      "metadata": {
        "id": "-TTL2h3teQKx",
        "colab_type": "code",
        "colab": {}
      },
      "source": [
        "#rounding off predictions into one and zero for batch_size =20 and number_of_classes = 228\n",
        "for j in range(20):\n",
        "  for i in range(228):\n",
        "    if prediction[j][i] >= 0.5:\n",
        "      prediction[j][i] = 1\n",
        "    else:\n",
        "      prediction[j][i] = 0"
      ],
      "execution_count": 0,
      "outputs": []
    },
    {
      "cell_type": "code",
      "metadata": {
        "id": "bDEIeevQf4vB",
        "colab_type": "code",
        "colab": {}
      },
      "source": [
        "def top_ten_class(prediction):\n",
        "    \n",
        "    sum_pred = np.zeros(228)  \n",
        "    for i in prediction:\n",
        "        sum_pred = i + sum_pred #summing all the prediction element wise\n",
        "    top_ten_idx = (-sum_pred).argsort()[:10] # finding index of top ten maximum elements in the tensor \n",
        "    return top_ten_idx"
      ],
      "execution_count": 0,
      "outputs": []
    },
    {
      "cell_type": "code",
      "metadata": {
        "id": "bUPjwHUlhCxL",
        "colab_type": "code",
        "colab": {}
      },
      "source": [
        "indexes = top_ten_class(prediction)"
      ],
      "execution_count": 0,
      "outputs": []
    },
    {
      "cell_type": "code",
      "metadata": {
        "id": "b3hCfEgwjCeO",
        "colab_type": "code",
        "outputId": "029d4066-0f24-4f1e-85b4-ff3935a55262",
        "colab": {
          "base_uri": "https://localhost:8080/",
          "height": 33
        }
      },
      "source": [
        "indexes"
      ],
      "execution_count": 84,
      "outputs": [
        {
          "output_type": "execute_result",
          "data": {
            "text/plain": [
              "array([153,  81, 179, 149,  65, 122, 219, 185, 203, 188])"
            ]
          },
          "metadata": {
            "tags": []
          },
          "execution_count": 84
        }
      ]
    },
    {
      "cell_type": "code",
      "metadata": {
        "id": "bKJ0EWEDjDom",
        "colab_type": "code",
        "colab": {}
      },
      "source": [
        ""
      ],
      "execution_count": 0,
      "outputs": []
    }
  ]
}